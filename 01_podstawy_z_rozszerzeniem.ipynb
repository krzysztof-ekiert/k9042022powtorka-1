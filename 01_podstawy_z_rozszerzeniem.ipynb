{
 "cells": [
  {
   "cell_type": "code",
   "execution_count": null,
   "id": "8c808b98",
   "metadata": {},
   "outputs": [],
   "source": [
    "a = 1"
   ]
  },
  {
   "cell_type": "markdown",
   "id": "866bc5d3",
   "metadata": {},
   "source": [
    "# Przydatne polecenia jupytera\n",
    "\n",
    "\n",
    "* `shift + Enter`  - wykonuje i przechodzi do kolejnej jesli jest. jesli nie ma to tworzy nowa komorke\n",
    "\n",
    "* `alt + Enter` - wykonuje i dodaje nowa komorke\n",
    "\n",
    "* `ctrl + Enter` - wykonuje w miejscu\n",
    "\n",
    "* `ctrl + shift + -` - dzieli komorke\n",
    "\n",
    "\n",
    "## w trybie edycji\n",
    "\n",
    "po nacisnieciu escp\n",
    "\n",
    "a - dodanie na gorze\n",
    "\n",
    "b - dodanie na dole\n",
    "\n",
    "y - komorka kodu\n",
    "\n",
    "m - komorka markdown"
   ]
  },
  {
   "cell_type": "markdown",
   "id": "c6bef2d7",
   "metadata": {},
   "source": [
    "# Python\n",
    "\n",
    "plusy\n",
    "- mały próg wejścia\n",
    "- wszechstronny\n",
    "- w pełni obiektowy\n",
    "- wysokopoziomowy\n",
    "- wieloplatformowość\n",
    "- interpretowany\n",
    "- popularny\n",
    "- bogata spolecznosc\n",
    "- bogaty zbiór bibliotek\n",
    "\n",
    "cecha:\n",
    "- typowanie: dynamiczne i silne\n",
    "\n",
    "minusy\n",
    "- wolny\n",
    "\n",
    "## Interpreter\n",
    "\n",
    "- interaktywny\n",
    "- wykonywania skryptow\n",
    "\n",
    "\n"
   ]
  },
  {
   "cell_type": "code",
   "execution_count": null,
   "id": "5774774e",
   "metadata": {},
   "outputs": [],
   "source": [
    "# help()"
   ]
  },
  {
   "cell_type": "code",
   "execution_count": null,
   "id": "4e22410e",
   "metadata": {},
   "outputs": [],
   "source": [
    "help(print)"
   ]
  },
  {
   "cell_type": "code",
   "execution_count": null,
   "id": "27d0ece4",
   "metadata": {},
   "outputs": [],
   "source": [
    "'0b{:04b}'.format(0b1100 & 0b1010)"
   ]
  },
  {
   "cell_type": "code",
   "execution_count": null,
   "id": "faccaca0",
   "metadata": {},
   "outputs": [],
   "source": [
    "0b1100 \n"
   ]
  },
  {
   "cell_type": "code",
   "execution_count": null,
   "id": "6089525d",
   "metadata": {},
   "outputs": [],
   "source": [
    "0b1010"
   ]
  },
  {
   "cell_type": "code",
   "execution_count": null,
   "id": "49515ca6",
   "metadata": {},
   "outputs": [],
   "source": [
    "0b1100 & 0b1010"
   ]
  },
  {
   "cell_type": "code",
   "execution_count": null,
   "id": "919adb8b",
   "metadata": {},
   "outputs": [],
   "source": [
    "0b11  # 2 ** 1 + 2 ** 0"
   ]
  },
  {
   "cell_type": "code",
   "execution_count": null,
   "id": "2a9ef716",
   "metadata": {},
   "outputs": [],
   "source": [
    "0b111  # 2 ** 2 + 2 ** 1  + 2**0"
   ]
  },
  {
   "cell_type": "code",
   "execution_count": null,
   "id": "90b2383c",
   "metadata": {},
   "outputs": [],
   "source": [
    "0o11"
   ]
  },
  {
   "cell_type": "code",
   "execution_count": null,
   "id": "2fcf47ed",
   "metadata": {},
   "outputs": [],
   "source": [
    "0xff"
   ]
  },
  {
   "cell_type": "markdown",
   "id": "9cf5add7",
   "metadata": {},
   "source": [
    "### operator := (walrus operator)\n",
    "\n"
   ]
  },
  {
   "cell_type": "code",
   "execution_count": null,
   "id": "c7ab6a1b",
   "metadata": {},
   "outputs": [],
   "source": [
    "a = [1,2 , 3, 4]\n",
    "if (n := len(a)) > 3: print(n)"
   ]
  },
  {
   "cell_type": "code",
   "execution_count": null,
   "id": "71e92ab0",
   "metadata": {},
   "outputs": [],
   "source": [
    "(2 * 3) ** 2 "
   ]
  },
  {
   "cell_type": "code",
   "execution_count": null,
   "id": "91538867",
   "metadata": {},
   "outputs": [],
   "source": [
    "2 * 3 ** 2"
   ]
  },
  {
   "cell_type": "code",
   "execution_count": null,
   "id": "959107e2",
   "metadata": {},
   "outputs": [],
   "source": [
    "(3 ** 2) * 2"
   ]
  },
  {
   "cell_type": "markdown",
   "id": "857bd0d3",
   "metadata": {},
   "source": [
    "### typowanie\n",
    "\n",
    "#### dynamiczne:"
   ]
  },
  {
   "cell_type": "code",
   "execution_count": null,
   "id": "2ebcad7c",
   "metadata": {},
   "outputs": [],
   "source": [
    "x = 1\n",
    "x = \"napis\""
   ]
  },
  {
   "cell_type": "code",
   "execution_count": null,
   "id": "fcad3086",
   "metadata": {},
   "outputs": [],
   "source": [
    "x: int = 1\n",
    "x = \"napis\""
   ]
  },
  {
   "cell_type": "code",
   "execution_count": null,
   "id": "0881ecf8",
   "metadata": {},
   "outputs": [],
   "source": [
    "__annotations__"
   ]
  },
  {
   "cell_type": "markdown",
   "id": "9ad9afea",
   "metadata": {},
   "source": [
    "#### silne:"
   ]
  },
  {
   "cell_type": "code",
   "execution_count": null,
   "id": "6306951a",
   "metadata": {},
   "outputs": [],
   "source": [
    "1 + \"1\""
   ]
  },
  {
   "cell_type": "code",
   "execution_count": null,
   "id": "e22a4f67",
   "metadata": {},
   "outputs": [],
   "source": [
    "str(1) + \"1\""
   ]
  },
  {
   "cell_type": "code",
   "execution_count": null,
   "id": "143f7a0e",
   "metadata": {},
   "outputs": [],
   "source": [
    "1 + int(\"1\")"
   ]
  },
  {
   "cell_type": "markdown",
   "id": "ac10b7c5",
   "metadata": {},
   "source": [
    "### Annotacje"
   ]
  },
  {
   "cell_type": "code",
   "execution_count": null,
   "id": "6e57914a",
   "metadata": {},
   "outputs": [],
   "source": [
    "def sum_int(a: int, b: int) -> int:\n",
    "    return a + b"
   ]
  },
  {
   "cell_type": "code",
   "execution_count": null,
   "id": "29645858",
   "metadata": {},
   "outputs": [],
   "source": [
    "__annotations__"
   ]
  },
  {
   "cell_type": "code",
   "execution_count": null,
   "id": "9274589c",
   "metadata": {},
   "outputs": [],
   "source": [
    "sum_int.__annotations__"
   ]
  },
  {
   "cell_type": "code",
   "execution_count": null,
   "id": "76932776",
   "metadata": {},
   "outputs": [],
   "source": [
    "__doc__"
   ]
  },
  {
   "cell_type": "code",
   "execution_count": null,
   "id": "4cba7590",
   "metadata": {},
   "outputs": [],
   "source": [
    "sum_int.__doc__"
   ]
  },
  {
   "cell_type": "code",
   "execution_count": null,
   "id": "89fbd1a2",
   "metadata": {},
   "outputs": [],
   "source": [
    "help(sum_int)"
   ]
  },
  {
   "cell_type": "code",
   "execution_count": null,
   "id": "730fa8c9",
   "metadata": {},
   "outputs": [],
   "source": [
    "def sum_int(a: int, b: int) -> int:\n",
    "    \"\"\"Adding two ints\"\"\"\n",
    "    return a + b"
   ]
  },
  {
   "cell_type": "code",
   "execution_count": null,
   "id": "f5f10e5d",
   "metadata": {},
   "outputs": [],
   "source": [
    "sum_int.__doc__"
   ]
  },
  {
   "cell_type": "code",
   "execution_count": null,
   "id": "70a5c0d4",
   "metadata": {},
   "outputs": [],
   "source": [
    "help(sum_int)"
   ]
  },
  {
   "cell_type": "markdown",
   "id": "b345302a",
   "metadata": {},
   "source": [
    "### funkcja dir"
   ]
  },
  {
   "cell_type": "code",
   "execution_count": null,
   "id": "644a889c",
   "metadata": {},
   "outputs": [],
   "source": [
    "help(dir)"
   ]
  },
  {
   "cell_type": "code",
   "execution_count": null,
   "id": "af5f100a",
   "metadata": {
    "scrolled": true
   },
   "outputs": [],
   "source": [
    "dir()"
   ]
  },
  {
   "cell_type": "code",
   "execution_count": null,
   "id": "e418eb2b",
   "metadata": {},
   "outputs": [],
   "source": [
    "dir(\"\")"
   ]
  },
  {
   "cell_type": "code",
   "execution_count": null,
   "id": "30e065c7",
   "metadata": {},
   "outputs": [],
   "source": [
    "\"\".zfill?"
   ]
  },
  {
   "cell_type": "code",
   "execution_count": null,
   "id": "4b2b0516",
   "metadata": {},
   "outputs": [],
   "source": [
    "help(\"\".zfill)"
   ]
  },
  {
   "cell_type": "code",
   "execution_count": null,
   "id": "6e1c660f",
   "metadata": {},
   "outputs": [],
   "source": [
    "\"\".zfill(10)"
   ]
  },
  {
   "cell_type": "code",
   "execution_count": null,
   "id": "f37394fc",
   "metadata": {},
   "outputs": [],
   "source": [
    "dir(sum_int)"
   ]
  },
  {
   "cell_type": "code",
   "execution_count": null,
   "id": "69a2fc1d",
   "metadata": {},
   "outputs": [],
   "source": [
    "def incr_by_10(a: int) -> int:\n",
    "    step: int = 10\n",
    "    print(\"Names in localscope: \", dir())\n",
    "    return a + step\n",
    "\n",
    "incr_by_10(3)"
   ]
  },
  {
   "cell_type": "code",
   "execution_count": null,
   "id": "89a85efc",
   "metadata": {},
   "outputs": [],
   "source": [
    "incr_by_10.__annotations__"
   ]
  },
  {
   "cell_type": "code",
   "execution_count": null,
   "id": "932a6eac",
   "metadata": {},
   "outputs": [],
   "source": [
    "a: int = 1"
   ]
  },
  {
   "cell_type": "code",
   "execution_count": null,
   "id": "e6a8df99",
   "metadata": {},
   "outputs": [],
   "source": [
    "dir(incr_by_10)\n"
   ]
  },
  {
   "cell_type": "code",
   "execution_count": null,
   "id": "99468e1b",
   "metadata": {},
   "outputs": [],
   "source": [
    "incr_by_10.__dict__"
   ]
  },
  {
   "cell_type": "markdown",
   "id": "c9e2b208",
   "metadata": {},
   "source": [
    "## Moduły i paczki\n",
    "\n",
    "Moduly i paczki wprowadzaja modularyzacje projektów\n",
    "\n",
    "- simplicity - prostota\n",
    "\n",
    "- maintainability - latwosc utrzymania\n",
    "\n",
    "- reusability - ponowne wykorzystanie\n",
    "\n",
    "- scoping - zakres\n",
    "\n",
    "\n"
   ]
  },
  {
   "cell_type": "code",
   "execution_count": null,
   "id": "04508158",
   "metadata": {},
   "outputs": [],
   "source": [
    "import this"
   ]
  },
  {
   "cell_type": "code",
   "execution_count": null,
   "id": "641070b0",
   "metadata": {},
   "outputs": [],
   "source": [
    "import __hello__"
   ]
  },
  {
   "cell_type": "markdown",
   "id": "6cc485e7",
   "metadata": {},
   "source": [
    "- modul to plik pythonowy\n",
    "- moze byc tez w C\n"
   ]
  },
  {
   "cell_type": "code",
   "execution_count": null,
   "id": "82e70d39",
   "metadata": {},
   "outputs": [],
   "source": [
    "%%writefile mod.py\n",
    "\n",
    "s: str = \"Yes we can\"\n",
    "a: list = [100, 200, 300]\n",
    "\n",
    "def foo(arg):\n",
    "    print(f\"arg = {arg}\")\n",
    "          \n",
    "class Foo: pass"
   ]
  },
  {
   "cell_type": "code",
   "execution_count": null,
   "id": "c351fd77",
   "metadata": {},
   "outputs": [],
   "source": [
    "import mod"
   ]
  },
  {
   "cell_type": "code",
   "execution_count": null,
   "id": "ecc87747",
   "metadata": {},
   "outputs": [],
   "source": [
    "dir(mod)"
   ]
  },
  {
   "cell_type": "code",
   "execution_count": null,
   "id": "d094f721",
   "metadata": {},
   "outputs": [],
   "source": [
    "mod.__name__"
   ]
  },
  {
   "cell_type": "code",
   "execution_count": null,
   "id": "daeb9e18",
   "metadata": {},
   "outputs": [],
   "source": [
    "mod.__file__"
   ]
  },
  {
   "cell_type": "code",
   "execution_count": null,
   "id": "3990ad8e",
   "metadata": {},
   "outputs": [],
   "source": [
    "mod.a"
   ]
  },
  {
   "cell_type": "code",
   "execution_count": null,
   "id": "07fc1cb3",
   "metadata": {},
   "outputs": [],
   "source": [
    "%%writefile mod.py\n",
    "\n",
    "print(__name__)\n",
    "\n",
    "s: str = \"Yes we can\"\n",
    "a: list = [100, 200, 300]\n",
    "\n",
    "def foo(arg):\n",
    "    print(f\"arg = {arg}\")\n",
    "          \n",
    "class Foo: pass\n",
    "\n",
    "foo(\"aaa\")"
   ]
  },
  {
   "cell_type": "code",
   "execution_count": null,
   "id": "194acd7f",
   "metadata": {},
   "outputs": [],
   "source": [
    "import mod"
   ]
  },
  {
   "cell_type": "code",
   "execution_count": null,
   "id": "99362288",
   "metadata": {},
   "outputs": [],
   "source": [
    "import importlib\n",
    "\n",
    "importlib.reload(mod)"
   ]
  },
  {
   "cell_type": "code",
   "execution_count": null,
   "id": "f8fa461b",
   "metadata": {},
   "outputs": [],
   "source": [
    "!dir"
   ]
  },
  {
   "cell_type": "code",
   "execution_count": null,
   "id": "b088f529",
   "metadata": {},
   "outputs": [],
   "source": [
    "!python mod.py"
   ]
  },
  {
   "cell_type": "code",
   "execution_count": null,
   "id": "61ecdf40",
   "metadata": {},
   "outputs": [],
   "source": [
    "%%writefile mod.py\n",
    "\n",
    "print(__name__)\n",
    "\n",
    "s: str = \"Yes we can\"\n",
    "a: list = [100, 200, 300]\n",
    "\n",
    "def foo(arg):\n",
    "    print(f\"arg = {arg}\")\n",
    "          \n",
    "class Foo: pass\n",
    "\n",
    "if __name__ == \"__main__\":\n",
    "    foo(\"aaa\")"
   ]
  },
  {
   "cell_type": "code",
   "execution_count": null,
   "id": "6e1a3cfa",
   "metadata": {},
   "outputs": [],
   "source": [
    "importlib.reload(mod)"
   ]
  },
  {
   "cell_type": "code",
   "execution_count": null,
   "id": "45a71222",
   "metadata": {},
   "outputs": [],
   "source": [
    "!dir"
   ]
  },
  {
   "cell_type": "markdown",
   "id": "57368308",
   "metadata": {},
   "source": [
    "#### Skąd robione są importy  "
   ]
  },
  {
   "cell_type": "code",
   "execution_count": null,
   "id": "ebd7fbd4",
   "metadata": {},
   "outputs": [],
   "source": [
    "import sys\n",
    "\n",
    "sys.path"
   ]
  },
  {
   "cell_type": "code",
   "execution_count": null,
   "id": "4b5c0a71",
   "metadata": {},
   "outputs": [],
   "source": [
    "sys.path"
   ]
  },
  {
   "cell_type": "code",
   "execution_count": null,
   "id": "83c1d693",
   "metadata": {},
   "outputs": [],
   "source": [
    "# import mod\n",
    "mod = __import__(\"mod\")"
   ]
  },
  {
   "cell_type": "code",
   "execution_count": null,
   "id": "c4428359",
   "metadata": {},
   "outputs": [],
   "source": [
    "mod.foo(\"\")"
   ]
  },
  {
   "cell_type": "code",
   "execution_count": null,
   "id": "8f81c835",
   "metadata": {},
   "outputs": [],
   "source": [
    "random = __import__(\"RANDOM\".lower())\n",
    "random.randint(1, 10)"
   ]
  },
  {
   "cell_type": "code",
   "execution_count": null,
   "id": "3f24ec94",
   "metadata": {},
   "outputs": [],
   "source": [
    "from mod import foo"
   ]
  },
  {
   "cell_type": "code",
   "execution_count": null,
   "id": "b098bd7a",
   "metadata": {},
   "outputs": [],
   "source": [
    "foo(\"xx\")"
   ]
  },
  {
   "cell_type": "code",
   "execution_count": null,
   "id": "e34c3831",
   "metadata": {},
   "outputs": [],
   "source": [
    "from mod import foo as f\n",
    "\n",
    "f(\"x\")"
   ]
  },
  {
   "cell_type": "markdown",
   "id": "7007ac25",
   "metadata": {},
   "source": [
    "### package\n",
    "\n",
    "Paczka to folder zawierajacy moduly\n",
    "\n",
    "    pkg\n",
    "        mod1.py\n",
    "        mod2.py"
   ]
  },
  {
   "cell_type": "code",
   "execution_count": null,
   "id": "45332681",
   "metadata": {},
   "outputs": [],
   "source": [
    "!mkdir pkg"
   ]
  },
  {
   "cell_type": "code",
   "execution_count": null,
   "id": "a17e415e",
   "metadata": {},
   "outputs": [],
   "source": [
    "%%writefile pkg/mod1.py\n",
    "\n",
    "def foo():\n",
    "    print('[mod1] foo()')"
   ]
  },
  {
   "cell_type": "code",
   "execution_count": null,
   "id": "9161c216",
   "metadata": {},
   "outputs": [],
   "source": [
    "%%writefile pkg/mod2.py\n",
    "\n",
    "def foo():\n",
    "    print('[mod2] foo()')"
   ]
  },
  {
   "cell_type": "code",
   "execution_count": null,
   "id": "892c4c89",
   "metadata": {},
   "outputs": [],
   "source": [
    "import pkg"
   ]
  },
  {
   "cell_type": "code",
   "execution_count": null,
   "id": "b0b24201",
   "metadata": {},
   "outputs": [],
   "source": [
    "dir(pkg)"
   ]
  },
  {
   "cell_type": "code",
   "execution_count": null,
   "id": "f485c13b",
   "metadata": {},
   "outputs": [],
   "source": [
    "%%writefile pkg/__init__.py\n",
    "\n",
    "print(\"Initialize pkg\")"
   ]
  },
  {
   "cell_type": "code",
   "execution_count": null,
   "id": "b5767900",
   "metadata": {},
   "outputs": [],
   "source": [
    "import importlib\n",
    "\n",
    "importlib.reload(pkg)"
   ]
  },
  {
   "cell_type": "code",
   "execution_count": null,
   "id": "d2203334",
   "metadata": {},
   "outputs": [],
   "source": [
    "dir(pkg)"
   ]
  },
  {
   "cell_type": "code",
   "execution_count": null,
   "id": "5358b68c",
   "metadata": {},
   "outputs": [],
   "source": [
    "pkg.mod1.foo()"
   ]
  },
  {
   "cell_type": "code",
   "execution_count": null,
   "id": "de3e38d1",
   "metadata": {},
   "outputs": [],
   "source": [
    "from pkg import mod1"
   ]
  },
  {
   "cell_type": "markdown",
   "id": "d3ce6a2b",
   "metadata": {},
   "source": [
    "## Przestrzenie nazw"
   ]
  },
  {
   "cell_type": "code",
   "execution_count": null,
   "id": "d0cd964e",
   "metadata": {},
   "outputs": [],
   "source": [
    "# x = for\n",
    "\n",
    "x = print"
   ]
  },
  {
   "cell_type": "code",
   "execution_count": null,
   "id": "c5c4bad7",
   "metadata": {},
   "outputs": [],
   "source": [
    "x(\"1\")"
   ]
  },
  {
   "cell_type": "code",
   "execution_count": null,
   "id": "8933eafa",
   "metadata": {},
   "outputs": [],
   "source": [
    "print = 1"
   ]
  },
  {
   "cell_type": "code",
   "execution_count": null,
   "id": "e3c24f88",
   "metadata": {},
   "outputs": [],
   "source": [
    "print = __builtin__.print"
   ]
  },
  {
   "cell_type": "code",
   "execution_count": null,
   "id": "1f461c3c",
   "metadata": {},
   "outputs": [],
   "source": [
    "print(\"cos\")"
   ]
  },
  {
   "cell_type": "code",
   "execution_count": null,
   "id": "58376f82",
   "metadata": {},
   "outputs": [],
   "source": [
    "str(print)"
   ]
  },
  {
   "cell_type": "markdown",
   "id": "66c54277",
   "metadata": {},
   "source": [
    "### przestrzen `__builtin__`"
   ]
  },
  {
   "cell_type": "code",
   "execution_count": null,
   "id": "93fbcb16",
   "metadata": {},
   "outputs": [],
   "source": [
    "dir(__builtin__)"
   ]
  },
  {
   "cell_type": "markdown",
   "id": "21077f93",
   "metadata": {},
   "source": [
    "#### Wyjatki - okolo 66\n",
    "\n",
    "#### Stałe\n",
    "\n",
    "False, True, None, Ellipsis, ..., NotImplemented\n"
   ]
  },
  {
   "cell_type": "code",
   "execution_count": null,
   "id": "3c72bf1a",
   "metadata": {},
   "outputs": [],
   "source": [
    "x = False\n",
    "\n",
    "y = False\n",
    "\n",
    "id(x), id(y)"
   ]
  },
  {
   "cell_type": "code",
   "execution_count": null,
   "id": "1f552618",
   "metadata": {},
   "outputs": [],
   "source": [
    "napis = \"ala\"\n",
    "napis2 = \"ala\"\n",
    "\n",
    "napis == napis2"
   ]
  },
  {
   "cell_type": "code",
   "execution_count": null,
   "id": "a9939fed",
   "metadata": {},
   "outputs": [],
   "source": [
    "napis is napis2"
   ]
  },
  {
   "cell_type": "code",
   "execution_count": null,
   "id": "363b90da",
   "metadata": {},
   "outputs": [],
   "source": []
  },
  {
   "cell_type": "code",
   "execution_count": null,
   "id": "fb97853f",
   "metadata": {},
   "outputs": [],
   "source": [
    "id(napis) == id(napis2)"
   ]
  },
  {
   "cell_type": "code",
   "execution_count": null,
   "id": "75eb4fff",
   "metadata": {},
   "outputs": [],
   "source": [
    "napis = \"ala ma kota\"\n",
    "napis2 = \"ala ma kota\"\n",
    "\n"
   ]
  },
  {
   "cell_type": "code",
   "execution_count": null,
   "id": "f1544860",
   "metadata": {},
   "outputs": [],
   "source": [
    "napis == napis2"
   ]
  },
  {
   "cell_type": "code",
   "execution_count": null,
   "id": "05c3158c",
   "metadata": {},
   "outputs": [],
   "source": [
    "napis is napis2"
   ]
  },
  {
   "cell_type": "code",
   "execution_count": null,
   "id": "e3d91be8",
   "metadata": {},
   "outputs": [],
   "source": [
    "id(1)"
   ]
  },
  {
   "cell_type": "code",
   "execution_count": null,
   "id": "33198b05",
   "metadata": {},
   "outputs": [],
   "source": [
    "id(False)"
   ]
  },
  {
   "cell_type": "code",
   "execution_count": null,
   "id": "881df3e4",
   "metadata": {},
   "outputs": [],
   "source": [
    "id(566056050503405047)"
   ]
  },
  {
   "cell_type": "code",
   "execution_count": null,
   "id": "624688e2",
   "metadata": {},
   "outputs": [],
   "source": [
    "None == None"
   ]
  },
  {
   "cell_type": "code",
   "execution_count": null,
   "id": "b90f53c0",
   "metadata": {},
   "outputs": [],
   "source": [
    "class MyNumber:\n",
    "    def __add__(self, other):\n",
    "        if isinstance(other, float):\n",
    "            raise NotImplementedError\n",
    "        return other + 42\n",
    "x =MyNumber()\n",
    "x + 1.2"
   ]
  },
  {
   "cell_type": "code",
   "execution_count": null,
   "id": "af23d156",
   "metadata": {},
   "outputs": [],
   "source": [
    "class MyNumber:\n",
    "    def __add__(self, other):\n",
    "        if isinstance(other, float):\n",
    "            return NotImplemented\n",
    "        return other + 42\n",
    "x =MyNumber()\n",
    "x + 1.2"
   ]
  },
  {
   "cell_type": "markdown",
   "id": "502e6abc",
   "metadata": {},
   "source": [
    "#### stale \n",
    "\n",
    "`__name__`, `__debug__`, i inne"
   ]
  },
  {
   "cell_type": "code",
   "execution_count": null,
   "id": "113f2b6f",
   "metadata": {},
   "outputs": [],
   "source": [
    "__debug__\n",
    "\n"
   ]
  },
  {
   "cell_type": "code",
   "execution_count": null,
   "id": "51d32cba",
   "metadata": {},
   "outputs": [],
   "source": [
    "%%writefile test_debug.py\n",
    "\n",
    "print(__debug__)\n",
    "\n",
    "def sumator(a, b):\n",
    "    return a + b\n",
    "\n",
    "\n",
    "assert sumator(1, 2) == 3\n",
    "assert sumator(1, 10) == 10"
   ]
  },
  {
   "cell_type": "code",
   "execution_count": null,
   "id": "2320269a",
   "metadata": {},
   "outputs": [],
   "source": [
    "!python test_debug.py"
   ]
  },
  {
   "cell_type": "code",
   "execution_count": null,
   "id": "59e2bc93",
   "metadata": {},
   "outputs": [],
   "source": [
    "!python -O test_debug.py"
   ]
  },
  {
   "cell_type": "markdown",
   "id": "3416e613",
   "metadata": {},
   "source": [
    "#### funkcje\n",
    "\n",
    "##### `exec`"
   ]
  },
  {
   "cell_type": "code",
   "execution_count": null,
   "id": "dc14f361",
   "metadata": {},
   "outputs": [],
   "source": [
    "code = \"\"\"\n",
    "x = [1, 2]\n",
    "print(x)\n",
    "\"\"\""
   ]
  },
  {
   "cell_type": "code",
   "execution_count": null,
   "id": "cb506cab",
   "metadata": {},
   "outputs": [],
   "source": [
    "exec(code)"
   ]
  },
  {
   "cell_type": "code",
   "execution_count": null,
   "id": "a835ac41",
   "metadata": {},
   "outputs": [],
   "source": [
    "code = \"\"\"print(yyy)\"\"\"\n",
    "exec(code, {'yyy': [6, 7,8 ]})"
   ]
  },
  {
   "cell_type": "code",
   "execution_count": null,
   "id": "5e6557ad",
   "metadata": {},
   "outputs": [],
   "source": [
    "help(exec)"
   ]
  },
  {
   "cell_type": "markdown",
   "id": "aabb3edc",
   "metadata": {},
   "source": [
    "##### `eval`"
   ]
  },
  {
   "cell_type": "code",
   "execution_count": null,
   "id": "50301f29",
   "metadata": {},
   "outputs": [],
   "source": [
    "help(eval)"
   ]
  },
  {
   "cell_type": "code",
   "execution_count": null,
   "id": "962fb328",
   "metadata": {},
   "outputs": [],
   "source": [
    "eval(code, {'yyy': [6, 7,8 ]} )\n",
    "\n",
    "eval(\"1+1\")"
   ]
  },
  {
   "cell_type": "markdown",
   "id": "f4fa0463",
   "metadata": {},
   "source": [
    "##### globals, locals\n",
    "\n"
   ]
  },
  {
   "cell_type": "markdown",
   "id": "59648b61",
   "metadata": {},
   "source": [
    "##### str, bytes, int, bool, float, complex"
   ]
  },
  {
   "cell_type": "code",
   "execution_count": null,
   "id": "fea5a9c8",
   "metadata": {},
   "outputs": [],
   "source": [
    "str(10)"
   ]
  },
  {
   "cell_type": "code",
   "execution_count": null,
   "id": "92a66af6",
   "metadata": {},
   "outputs": [],
   "source": [
    "bytes('ala', 'utf-8')"
   ]
  },
  {
   "cell_type": "code",
   "execution_count": null,
   "id": "b49838a7",
   "metadata": {},
   "outputs": [],
   "source": [
    "bytes(\"zażółć gęślą jaźń\", 'iso-8859-2')"
   ]
  },
  {
   "cell_type": "code",
   "execution_count": null,
   "id": "39f89f61",
   "metadata": {},
   "outputs": [],
   "source": [
    "bytes(\"zażółć gęślą jaźń\", 'utf-8')"
   ]
  },
  {
   "cell_type": "code",
   "execution_count": null,
   "id": "35a6b61a",
   "metadata": {},
   "outputs": [],
   "source": [
    "for i in range(32, 127):\n",
    "    print(i, chr(i))\n"
   ]
  },
  {
   "cell_type": "code",
   "execution_count": null,
   "id": "1e25c9f3",
   "metadata": {},
   "outputs": [],
   "source": [
    "print(\"\\t\")"
   ]
  },
  {
   "cell_type": "code",
   "execution_count": null,
   "id": "408caa49",
   "metadata": {},
   "outputs": [],
   "source": [
    "1 + \"1\""
   ]
  },
  {
   "cell_type": "code",
   "execution_count": null,
   "id": "d740c032",
   "metadata": {},
   "outputs": [],
   "source": [
    "1 + True"
   ]
  },
  {
   "cell_type": "code",
   "execution_count": null,
   "id": "c0fd5a98",
   "metadata": {},
   "outputs": [],
   "source": [
    "1 == True\n"
   ]
  },
  {
   "cell_type": "code",
   "execution_count": null,
   "id": "286e0045",
   "metadata": {},
   "outputs": [],
   "source": [
    "bool([]) is False"
   ]
  },
  {
   "cell_type": "code",
   "execution_count": null,
   "id": "e0916ede",
   "metadata": {},
   "outputs": [],
   "source": [
    "1 is True"
   ]
  },
  {
   "cell_type": "markdown",
   "id": "aec17e2b",
   "metadata": {},
   "source": [
    "#### kontenery: tuple, list, dict, set, str, frozenset"
   ]
  },
  {
   "cell_type": "code",
   "execution_count": null,
   "id": "5a3c9c32",
   "metadata": {},
   "outputs": [],
   "source": [
    "s = {1, 2, 3}\n",
    "s.add(4)\n",
    "\n",
    "fs = frozenset(s)\n",
    "fs"
   ]
  },
  {
   "cell_type": "code",
   "execution_count": null,
   "id": "edcd868a",
   "metadata": {},
   "outputs": [],
   "source": [
    "dir(fs)"
   ]
  },
  {
   "cell_type": "markdown",
   "id": "4053aca0",
   "metadata": {},
   "source": [
    "#### proste konwertery: bin, hex, oct, ord, chr, ascii"
   ]
  },
  {
   "cell_type": "code",
   "execution_count": null,
   "id": "a3884ac8",
   "metadata": {},
   "outputs": [],
   "source": [
    "bin(10)\n"
   ]
  },
  {
   "cell_type": "code",
   "execution_count": null,
   "id": "e5dd7a62",
   "metadata": {},
   "outputs": [],
   "source": [
    "int(\"0b1010\", base=2)"
   ]
  },
  {
   "cell_type": "code",
   "execution_count": null,
   "id": "3f9586d1",
   "metadata": {},
   "outputs": [],
   "source": [
    "ord(\"a\")"
   ]
  },
  {
   "cell_type": "code",
   "execution_count": null,
   "id": "567c4b08",
   "metadata": {},
   "outputs": [],
   "source": [
    "chr(97)"
   ]
  },
  {
   "cell_type": "code",
   "execution_count": null,
   "id": "cb003d12",
   "metadata": {},
   "outputs": [],
   "source": [
    "ascii(\"a\\ną\")"
   ]
  },
  {
   "cell_type": "markdown",
   "id": "5b9ae545",
   "metadata": {},
   "source": [
    "#### callable\n"
   ]
  },
  {
   "cell_type": "code",
   "execution_count": null,
   "id": "b9cf1d62",
   "metadata": {},
   "outputs": [],
   "source": [
    "callable(\"\")"
   ]
  },
  {
   "cell_type": "code",
   "execution_count": null,
   "id": "c8a5f849",
   "metadata": {},
   "outputs": [],
   "source": [
    "callable(str)"
   ]
  },
  {
   "cell_type": "code",
   "execution_count": null,
   "id": "0b52f078",
   "metadata": {},
   "outputs": [],
   "source": [
    "def foo():\n",
    "    pass\n",
    "\n",
    "callable(foo)"
   ]
  },
  {
   "cell_type": "code",
   "execution_count": null,
   "id": "610932c5",
   "metadata": {},
   "outputs": [],
   "source": [
    "class C:\n",
    "    def __call__(self):\n",
    "        pass\n",
    "\n",
    "callable(C)"
   ]
  },
  {
   "cell_type": "code",
   "execution_count": null,
   "id": "56400546",
   "metadata": {},
   "outputs": [],
   "source": [
    "c = C()\n",
    "callable(c)\n",
    "\n"
   ]
  },
  {
   "cell_type": "code",
   "execution_count": null,
   "id": "9655dd31",
   "metadata": {},
   "outputs": [],
   "source": [
    "hasattr(c, '__call__')"
   ]
  },
  {
   "cell_type": "markdown",
   "id": "e705c1f8",
   "metadata": {},
   "source": [
    "#### sorted / reversed\n",
    "\n",
    "#### map"
   ]
  },
  {
   "cell_type": "code",
   "execution_count": null,
   "id": "7053eee2",
   "metadata": {},
   "outputs": [],
   "source": [
    "for el in  map(int, \"101001001\"):\n",
    "    print(type(el), el)"
   ]
  },
  {
   "cell_type": "code",
   "execution_count": null,
   "id": "8c28b563",
   "metadata": {},
   "outputs": [],
   "source": [
    "list(map(int, \"10010010\"))"
   ]
  },
  {
   "cell_type": "markdown",
   "id": "d5d34c3d",
   "metadata": {},
   "source": [
    "#### filter"
   ]
  },
  {
   "cell_type": "code",
   "execution_count": null,
   "id": "3b842844",
   "metadata": {},
   "outputs": [],
   "source": [
    "items = [13, 10, 25, 8]\n",
    "\n",
    "def even(num):\n",
    "    return num % 2 == 0\n",
    "\n",
    "evens = filter(even, items)\n",
    "list(evens)\n"
   ]
  },
  {
   "cell_type": "code",
   "execution_count": null,
   "id": "a500f253",
   "metadata": {},
   "outputs": [],
   "source": [
    "\n",
    "\n",
    "evens = filter(lambda num: num % 2 == 0, items)\n",
    "list(evens)\n"
   ]
  },
  {
   "cell_type": "markdown",
   "id": "aea196f8",
   "metadata": {},
   "source": [
    "#### Funkcje agregujace: len, max, min, sum"
   ]
  },
  {
   "cell_type": "markdown",
   "id": "baa8edf2",
   "metadata": {},
   "source": [
    "#### Funkcje wspomagajace iterowanie: range, enumerate, zip\n",
    "\n",
    "\n"
   ]
  },
  {
   "cell_type": "code",
   "execution_count": null,
   "id": "7ab77d67",
   "metadata": {},
   "outputs": [],
   "source": [
    "list(range(10))"
   ]
  },
  {
   "cell_type": "code",
   "execution_count": null,
   "id": "60c26f3f",
   "metadata": {},
   "outputs": [],
   "source": [
    "dane = list(range(100, 10, -10))\n",
    "dane2 = [x ** 2  for x in dane]"
   ]
  },
  {
   "cell_type": "code",
   "execution_count": null,
   "id": "9909a913",
   "metadata": {},
   "outputs": [],
   "source": [
    "for v in dane:\n",
    "    print(v)\n",
    "    print(dane2[dane.index(v)])"
   ]
  },
  {
   "cell_type": "code",
   "execution_count": null,
   "id": "f7f52ef8",
   "metadata": {},
   "outputs": [],
   "source": [
    "for i in range(len(dane)):\n",
    "    print(dane[i], dane2[i])"
   ]
  },
  {
   "cell_type": "code",
   "execution_count": null,
   "id": "3fc88d5f",
   "metadata": {},
   "outputs": [],
   "source": [
    "for i, v in enumerate(dane):\n",
    "    print(v, dane2[i])"
   ]
  },
  {
   "cell_type": "code",
   "execution_count": null,
   "id": "2eeeef3f",
   "metadata": {},
   "outputs": [],
   "source": [
    "for v, vsqr in zip(dane, dane2):\n",
    "    print(v, vsqr)"
   ]
  },
  {
   "cell_type": "code",
   "execution_count": null,
   "id": "d5f20e39",
   "metadata": {},
   "outputs": [],
   "source": [
    "a, b  = 1, 2\n",
    "\n",
    "a, b = b, a"
   ]
  },
  {
   "cell_type": "markdown",
   "id": "f78a3324",
   "metadata": {},
   "source": [
    "#### open\n",
    "\n",
    "    with open(\"nazwa\") as f:\n"
   ]
  },
  {
   "cell_type": "markdown",
   "id": "660d59ca",
   "metadata": {},
   "source": [
    "#### object"
   ]
  },
  {
   "cell_type": "code",
   "execution_count": null,
   "id": "69628d9c",
   "metadata": {},
   "outputs": [],
   "source": [
    "x = object()\n",
    "y = object()"
   ]
  },
  {
   "cell_type": "code",
   "execution_count": null,
   "id": "c8e40573",
   "metadata": {},
   "outputs": [],
   "source": [
    "x == x, y == y"
   ]
  },
  {
   "cell_type": "code",
   "execution_count": null,
   "id": "783ae2df",
   "metadata": {},
   "outputs": [],
   "source": [
    "x == y\n"
   ]
  },
  {
   "cell_type": "code",
   "execution_count": null,
   "id": "53549b7f",
   "metadata": {},
   "outputs": [],
   "source": [
    "dir(x)"
   ]
  },
  {
   "cell_type": "code",
   "execution_count": null,
   "id": "c4d73d01",
   "metadata": {},
   "outputs": [],
   "source": [
    "x.__hash__()\n"
   ]
  },
  {
   "cell_type": "code",
   "execution_count": null,
   "id": "e96d841c",
   "metadata": {},
   "outputs": [],
   "source": [
    "y.__hash__()"
   ]
  },
  {
   "cell_type": "markdown",
   "id": "a1f6a3d1",
   "metadata": {},
   "source": [
    "#### vars"
   ]
  },
  {
   "cell_type": "code",
   "execution_count": null,
   "id": "13174a43",
   "metadata": {},
   "outputs": [],
   "source": [
    "vars?"
   ]
  },
  {
   "cell_type": "code",
   "execution_count": null,
   "id": "376ce852",
   "metadata": {},
   "outputs": [],
   "source": [
    "class C:\n",
    "    some_value = 42\n",
    "    def __init__(self, x, y):\n",
    "        self.x = x\n",
    "        self.y = y\n",
    "    def some_method(self): pass\n",
    "    \n",
    "c = C(x=3, y=5)"
   ]
  },
  {
   "cell_type": "code",
   "execution_count": null,
   "id": "958cb607",
   "metadata": {},
   "outputs": [],
   "source": [
    "c.__dict__"
   ]
  },
  {
   "cell_type": "code",
   "execution_count": null,
   "id": "9db2ca11",
   "metadata": {},
   "outputs": [],
   "source": [
    "C.__dict__"
   ]
  },
  {
   "cell_type": "code",
   "execution_count": null,
   "id": "dd3bd219",
   "metadata": {},
   "outputs": [],
   "source": [
    "vars(C)"
   ]
  },
  {
   "cell_type": "code",
   "execution_count": null,
   "id": "1585bf7e",
   "metadata": {},
   "outputs": [],
   "source": [
    "vars(c)"
   ]
  },
  {
   "cell_type": "markdown",
   "id": "312619d4",
   "metadata": {},
   "source": [
    "wiecej tutaj:\n",
    "\n",
    "https://sadh.life/post/builtins"
   ]
  },
  {
   "cell_type": "markdown",
   "id": "33342389",
   "metadata": {},
   "source": [
    "### przestrzen globalna"
   ]
  },
  {
   "cell_type": "code",
   "execution_count": null,
   "id": "0017a00a",
   "metadata": {},
   "outputs": [],
   "source": [
    "%%writefile global_space.py\n",
    "\n",
    "a = 1\n",
    "\n",
    "def foo(): pass\n",
    "\n",
    "print(globals())"
   ]
  },
  {
   "cell_type": "code",
   "execution_count": null,
   "id": "a1d544ac",
   "metadata": {},
   "outputs": [],
   "source": [
    "!python global_space.py"
   ]
  },
  {
   "cell_type": "markdown",
   "id": "78bf6c92",
   "metadata": {},
   "source": [
    "### przestrzen lokalna\n"
   ]
  },
  {
   "cell_type": "code",
   "execution_count": null,
   "id": "a009e780",
   "metadata": {},
   "outputs": [],
   "source": [
    "%%writefile local_space.py\n",
    "\n",
    "a = 1\n",
    "\n",
    "def foo(b): \n",
    "    a = 10\n",
    "    print(\"a widziane z funkcji: \", a)\n",
    "    #     global a\n",
    "    #     a = 10\n",
    "    print(\"w funkcji (przestrzen lokalna): \")\n",
    "    #     print(\"globals\", globals())\n",
    "    print(\"locals\", locals())\n",
    "\n",
    "\n",
    "# print(\"na poziomie modulu - przestrzen globalna\")\n",
    "# print(\"globals\", globals())\n",
    "# print(\"locals\", locals())\n",
    "\n",
    "print()\n",
    "foo(20)\n",
    "print('a z modulu:', a)"
   ]
  },
  {
   "cell_type": "code",
   "execution_count": null,
   "id": "f86de033",
   "metadata": {},
   "outputs": [],
   "source": [
    "!python local_space.py"
   ]
  },
  {
   "cell_type": "markdown",
   "id": "d3922dbb",
   "metadata": {},
   "source": [
    "### przestrzen nielokalna, domykająca"
   ]
  },
  {
   "cell_type": "code",
   "execution_count": null,
   "id": "191f17f3",
   "metadata": {},
   "outputs": [],
   "source": [
    "%lsmagic"
   ]
  },
  {
   "cell_type": "code",
   "execution_count": null,
   "id": "adaf1cef",
   "metadata": {},
   "outputs": [],
   "source": [
    "# %load spaces.py\n",
    "# jeśli definiuje coś na pozimie modułu to jest to w \n",
    "# przestrzeni globalnej\n",
    "\n",
    "a = \"global\"\n",
    "b = 10\n",
    "\n",
    "def foo():\n",
    "\n",
    "    pass\n",
    "\n",
    "\n",
    "# poza funkcja\n",
    "def outer_function():\n",
    "    # tu jestem wewnatrz funkcji\n",
    "    # print(globals())\n",
    "    # global a \n",
    "    # a = 10\n",
    "    print(\"funkcja outer widzi a: \", a)\n",
    "    c = \"local?\"\n",
    "    print(\"lokalne zmienne w outer\", locals())\n",
    "    \n",
    "    def inner_function():\n",
    "        nonlocal c\n",
    "        c = 'from inner'\n",
    "        print('funkcja inner widzia a: ', a)\n",
    "        print('funkcja inner widzia c: ', c)\n",
    "       \n",
    "        print(\"inner function locals: \", locals())\n",
    "        \n",
    "    inner_function()\n",
    "    print(\"c w outer:\", c)\n",
    "    \n",
    "\n",
    "\n",
    "# poza funkcja\n",
    "# print(c)\n",
    "\n",
    "# print(globals())\n",
    "print()\n",
    "outer_function()"
   ]
  },
  {
   "cell_type": "markdown",
   "id": "192d0223",
   "metadata": {},
   "source": [
    "## zmienne\n",
    "\n",
    "nazwa, referencja, zmienna, wartość, literał"
   ]
  },
  {
   "cell_type": "code",
   "execution_count": null,
   "id": "688e142a",
   "metadata": {},
   "outputs": [],
   "source": [
    "nr_portu = 1"
   ]
  },
  {
   "cell_type": "code",
   "execution_count": null,
   "id": "dbe82cdf",
   "metadata": {},
   "outputs": [],
   "source": [
    "NR_PORTU = 5000"
   ]
  },
  {
   "cell_type": "code",
   "execution_count": null,
   "id": "bdaf8dd5",
   "metadata": {},
   "outputs": [],
   "source": [
    "a = 1\n",
    "b = a "
   ]
  },
  {
   "cell_type": "code",
   "execution_count": null,
   "id": "3ba05ee8",
   "metadata": {},
   "outputs": [],
   "source": [
    "b is a"
   ]
  },
  {
   "cell_type": "code",
   "execution_count": null,
   "id": "e5174e59",
   "metadata": {},
   "outputs": [],
   "source": [
    "a = [1, 2, 3]\n",
    "b = a"
   ]
  },
  {
   "cell_type": "code",
   "execution_count": null,
   "id": "54a7e5ff",
   "metadata": {},
   "outputs": [],
   "source": [
    "a is b"
   ]
  },
  {
   "cell_type": "code",
   "execution_count": null,
   "id": "b0c99b22",
   "metadata": {},
   "outputs": [],
   "source": [
    "b.append(4)"
   ]
  },
  {
   "cell_type": "code",
   "execution_count": null,
   "id": "223f19ce",
   "metadata": {},
   "outputs": [],
   "source": [
    "b"
   ]
  },
  {
   "cell_type": "code",
   "execution_count": null,
   "id": "b1dcb05a",
   "metadata": {},
   "outputs": [],
   "source": [
    "a"
   ]
  },
  {
   "cell_type": "markdown",
   "id": "5951f161",
   "metadata": {},
   "source": [
    "nazwa (referencja) wskazuje na obiet. Wiele nazw moze wskazywac na ten sam obiekt"
   ]
  },
  {
   "cell_type": "code",
   "execution_count": null,
   "id": "e23a6395",
   "metadata": {},
   "outputs": [],
   "source": [
    "a, b, c = 1, 2, 3"
   ]
  },
  {
   "cell_type": "code",
   "execution_count": null,
   "id": "650d7c8e",
   "metadata": {},
   "outputs": [],
   "source": [
    "a, *b = 1, 2, 3"
   ]
  },
  {
   "cell_type": "code",
   "execution_count": null,
   "id": "33661f6b",
   "metadata": {},
   "outputs": [],
   "source": [
    "a"
   ]
  },
  {
   "cell_type": "code",
   "execution_count": null,
   "id": "ed1d14fd",
   "metadata": {},
   "outputs": [],
   "source": [
    "b"
   ]
  },
  {
   "cell_type": "code",
   "execution_count": null,
   "id": "dd2e6d2c",
   "metadata": {},
   "outputs": [],
   "source": [
    "a, *b, c = 1, 2, 3, 4, 5"
   ]
  },
  {
   "cell_type": "code",
   "execution_count": null,
   "id": "fa6ddb16",
   "metadata": {},
   "outputs": [],
   "source": [
    "a, c"
   ]
  },
  {
   "cell_type": "code",
   "execution_count": null,
   "id": "f24e12be",
   "metadata": {},
   "outputs": [],
   "source": [
    "b"
   ]
  },
  {
   "cell_type": "code",
   "execution_count": null,
   "id": "161c2662",
   "metadata": {},
   "outputs": [],
   "source": [
    "del a"
   ]
  },
  {
   "cell_type": "code",
   "execution_count": null,
   "id": "7d253df1",
   "metadata": {},
   "outputs": [],
   "source": [
    "a = 1"
   ]
  },
  {
   "cell_type": "code",
   "execution_count": null,
   "id": "65210ec7",
   "metadata": {},
   "outputs": [],
   "source": [
    "# del a\n",
    "# del b\n",
    "# del c\n",
    "# del d"
   ]
  },
  {
   "cell_type": "code",
   "execution_count": null,
   "id": "35007f93",
   "metadata": {},
   "outputs": [],
   "source": [
    "slownik_zmiennych = {\"a\": 1, \"b\":2, \"c\":3, \"d\":34}\n"
   ]
  },
  {
   "cell_type": "code",
   "execution_count": null,
   "id": "ad257847",
   "metadata": {},
   "outputs": [],
   "source": [
    "for k, v in slownik_zmiennych.items():\n",
    "    exec(f\"{k} = {v}\")"
   ]
  },
  {
   "cell_type": "code",
   "execution_count": null,
   "id": "1117b18b",
   "metadata": {},
   "outputs": [],
   "source": [
    "a, b, c, d"
   ]
  },
  {
   "cell_type": "code",
   "execution_count": null,
   "id": "3c2157ca",
   "metadata": {},
   "outputs": [],
   "source": [
    "for k, v in slownik_zmiennych.items():\n",
    "    globals()[k] = v"
   ]
  },
  {
   "cell_type": "code",
   "execution_count": null,
   "id": "918d733f",
   "metadata": {},
   "outputs": [],
   "source": [
    "globals()"
   ]
  },
  {
   "cell_type": "markdown",
   "id": "7780e2f2",
   "metadata": {},
   "source": [
    "## wbudowane podstawowe typy\n",
    "\n",
    "### napis\n",
    "\n",
    "- ciag znakow unicode\n",
    "- niemutowalny"
   ]
  },
  {
   "cell_type": "code",
   "execution_count": null,
   "id": "a71d84d8",
   "metadata": {},
   "outputs": [],
   "source": [
    "str(None)"
   ]
  },
  {
   "cell_type": "code",
   "execution_count": null,
   "id": "841a7a16",
   "metadata": {},
   "outputs": [],
   "source": [
    "'1' + '2'"
   ]
  },
  {
   "cell_type": "code",
   "execution_count": null,
   "id": "cad1e066",
   "metadata": {},
   "outputs": [],
   "source": [
    "'1' * 50"
   ]
  },
  {
   "cell_type": "code",
   "execution_count": null,
   "id": "46ff761e",
   "metadata": {},
   "outputs": [],
   "source": [
    "\"1\" and \"2\""
   ]
  },
  {
   "cell_type": "code",
   "execution_count": null,
   "id": "365a55e7",
   "metadata": {},
   "outputs": [],
   "source": [
    "\"\" and \"2\""
   ]
  },
  {
   "cell_type": "code",
   "execution_count": null,
   "id": "cc1a5061",
   "metadata": {},
   "outputs": [],
   "source": [
    "\"3\" and \"2\""
   ]
  },
  {
   "cell_type": "code",
   "execution_count": null,
   "id": "cb8739ce",
   "metadata": {},
   "outputs": [],
   "source": [
    "\"3\" or \"2\""
   ]
  },
  {
   "cell_type": "code",
   "execution_count": null,
   "id": "b57356f2",
   "metadata": {},
   "outputs": [],
   "source": [
    "not \"2\""
   ]
  },
  {
   "cell_type": "markdown",
   "id": "c8eb5f18",
   "metadata": {},
   "source": [
    "a) True\n",
    "b) False\n",
    "c) \"1\"\n",
    "d) \"2\""
   ]
  },
  {
   "cell_type": "markdown",
   "id": "1f18e4ea",
   "metadata": {},
   "source": [
    "#### formatowanie napisów"
   ]
  },
  {
   "cell_type": "code",
   "execution_count": null,
   "id": "72970770",
   "metadata": {},
   "outputs": [],
   "source": [
    "\"1\" + \" 2\""
   ]
  },
  {
   "cell_type": "code",
   "execution_count": null,
   "id": "ab7e2f91",
   "metadata": {},
   "outputs": [],
   "source": [
    "\"Ale ma %.2f koty i %.3f psy\" % (2, 4)"
   ]
  },
  {
   "cell_type": "code",
   "execution_count": null,
   "id": "18fb38ea",
   "metadata": {},
   "outputs": [],
   "source": [
    "\"Ale ma {} koty i {} psy\".format(2, 4)"
   ]
  },
  {
   "cell_type": "code",
   "execution_count": null,
   "id": "79c0ce9b",
   "metadata": {},
   "outputs": [],
   "source": [
    "\"Ale ma {x} koty i {y} psy\".format(x=2, y=4)"
   ]
  },
  {
   "cell_type": "code",
   "execution_count": null,
   "id": "beec66fc",
   "metadata": {},
   "outputs": [],
   "source": [
    "\"Ale ma {x:^11} koty i {y:^7.2f} psy\".format(x=2, y=4)"
   ]
  },
  {
   "cell_type": "code",
   "execution_count": null,
   "id": "04d5ad04",
   "metadata": {},
   "outputs": [],
   "source": [
    "x = 10\n",
    "y = 6\n",
    "f\"Ale ma {x:^11} koty i {y:^7.2f} psy\""
   ]
  },
  {
   "cell_type": "markdown",
   "id": "7270048c",
   "metadata": {},
   "source": [
    "https://pyformat.info"
   ]
  },
  {
   "cell_type": "markdown",
   "id": "586c3573",
   "metadata": {},
   "source": [
    "### zadanie"
   ]
  },
  {
   "cell_type": "code",
   "execution_count": null,
   "id": "cb5f9af9",
   "metadata": {},
   "outputs": [],
   "source": [
    "pomidor = [\"pomidor\", 19, 1, 0, 4, 5.7, 350]\n",
    "mozarella = [\"ser mozarella\", 248, 18, 19, 2, 38.32, 325]\n",
    "salata = [\"sałata\", 13, 1, 0, 2, 3.15, 350]\n",
    "\n",
    "produkty = [pomidor, mozarella, salata]\n",
    "\n",
    "raport = \"\"\n",
    "\n",
    "bialko, tluszcz, wegle, kalorie, koszt, waga_calosc = 0,0,0,0,0,0\n",
    "for produkt in produkty:\n",
    "    name = produkt[0]\n",
    "    waga = produkt[-1]\n",
    "    cena = waga * produkt[-2] / 1000\n",
    "    k = produkt[1] / 100 * waga\n",
    "    b = produkt[2] / 100 * waga\n",
    "    t = produkt[3] / 100 * waga\n",
    "    w = produkt[4] / 100 * waga\n",
    "    \n",
    "\n",
    "    raport += (f'{name:15}, kalorie: {k:>6.2f}, b: {b:5.2f}, '\n",
    "    f't: {t:5.2f},  w: {w:5.2f}, waga: {waga:4} g, koszt: {cena:>5.2f} PLN\\n')\n",
    "    koszt += cena\n",
    "    kalorie += k\n",
    "    bialko += b\n",
    "    tluszcz += t\n",
    "    wegle += w\n",
    "    waga_calosc += waga\n",
    "raport += \"=\"*80 + \"\\n\"\n",
    "raport += (f'{\"SUMA\":15}, kalorie: {kalorie:>6.2f}, b: {bialko:5.2f}, '\n",
    "    f't: {tluszcz:5.2f},  w: {wegle:5.2f},  waga: {waga_calosc:4} g, koszt: {koszt:>5.2f} PLN\\n')\n",
    "print(raport)\n",
    "    "
   ]
  },
  {
   "cell_type": "markdown",
   "id": "beb098be",
   "metadata": {},
   "source": [
    "## f-string\n"
   ]
  },
  {
   "cell_type": "code",
   "execution_count": null,
   "id": "27d02684",
   "metadata": {},
   "outputs": [],
   "source": [
    "import datetime\n",
    "today = datetime.datetime.today()\n",
    "x = 1\n",
    "b = 2\n",
    "\n",
    "today.isoformat()"
   ]
  },
  {
   "cell_type": "code",
   "execution_count": null,
   "id": "5af889b8",
   "metadata": {},
   "outputs": [],
   "source": [
    "f\"{x} {b} {today}\""
   ]
  },
  {
   "cell_type": "code",
   "execution_count": null,
   "id": "c38527c2",
   "metadata": {},
   "outputs": [],
   "source": [
    "f\"{x} {b} {today:%Y-%m-%d}\""
   ]
  },
  {
   "cell_type": "code",
   "execution_count": null,
   "id": "90e8e169",
   "metadata": {},
   "outputs": [],
   "source": [
    "f\"{x} {b} {today:%F}\""
   ]
  },
  {
   "cell_type": "code",
   "execution_count": null,
   "id": "f3d256f5",
   "metadata": {},
   "outputs": [],
   "source": [
    "f\"{x} {b} {today:%T}\""
   ]
  },
  {
   "cell_type": "code",
   "execution_count": null,
   "id": "57cde67a",
   "metadata": {},
   "outputs": [],
   "source": [
    "f\"{x} {b} {today:%Y}\""
   ]
  },
  {
   "cell_type": "code",
   "execution_count": null,
   "id": "9788fbfa",
   "metadata": {},
   "outputs": [],
   "source": [
    "f\"x = {x}, b = {b}\""
   ]
  },
  {
   "cell_type": "code",
   "execution_count": null,
   "id": "728023ef",
   "metadata": {},
   "outputs": [],
   "source": [
    "f\"{x = }, {b = }\""
   ]
  },
  {
   "cell_type": "code",
   "execution_count": null,
   "id": "76cdba18",
   "metadata": {},
   "outputs": [],
   "source": [
    "f\"{x = }, {b = :.3f}\""
   ]
  },
  {
   "cell_type": "code",
   "execution_count": null,
   "id": "43e93310",
   "metadata": {},
   "outputs": [],
   "source": [
    "class User:\n",
    "    def __init__(self, first_name, last_name):\n",
    "        self.first_name = first_name\n",
    "        self.last_name = last_name\n",
    "        \n",
    "    def __str__(self):\n",
    "        return f\"{self.first_name} {self.last_name}\"\n",
    "    \n",
    "    def __repr__(self):\n",
    "        return f\"User's name is {self.first_name} {self.last_name}\""
   ]
  },
  {
   "cell_type": "code",
   "execution_count": null,
   "id": "16984051",
   "metadata": {},
   "outputs": [],
   "source": [
    "user = User(\"Jan\", \"Kowalski\")\n",
    "\n",
    "f\"{user}\""
   ]
  },
  {
   "cell_type": "code",
   "execution_count": null,
   "id": "90261c6e",
   "metadata": {},
   "outputs": [],
   "source": [
    "f\"{user!r}\""
   ]
  },
  {
   "cell_type": "code",
   "execution_count": null,
   "id": "dc2553e6",
   "metadata": {},
   "outputs": [],
   "source": [
    "x, y = \"hello\", \"world\""
   ]
  },
  {
   "cell_type": "code",
   "execution_count": null,
   "id": "8afd9c7c",
   "metadata": {},
   "outputs": [],
   "source": [
    "%timeit -n100000 f\"{x} {y}\""
   ]
  },
  {
   "cell_type": "code",
   "execution_count": null,
   "id": "cd7db2d9",
   "metadata": {},
   "outputs": [],
   "source": [
    "%timeit -n100000 x + \" \" + y"
   ]
  },
  {
   "cell_type": "code",
   "execution_count": null,
   "id": "fb57d542",
   "metadata": {},
   "outputs": [],
   "source": [
    "%timeit -n100000 \" \".join((x, y))"
   ]
  },
  {
   "cell_type": "code",
   "execution_count": null,
   "id": "bc64e3f3",
   "metadata": {},
   "outputs": [],
   "source": [
    "%timeit -n100000 \"%s %s\" % (x, y)"
   ]
  },
  {
   "cell_type": "code",
   "execution_count": null,
   "id": "f135c8b9",
   "metadata": {},
   "outputs": [],
   "source": [
    "%timeit -n100000 \"{} {}\".format(x, y)"
   ]
  },
  {
   "cell_type": "code",
   "execution_count": null,
   "id": "87d5b8b8",
   "metadata": {},
   "outputs": [],
   "source": [
    "from string import Template"
   ]
  },
  {
   "cell_type": "code",
   "execution_count": null,
   "id": "81162f1d",
   "metadata": {},
   "outputs": [],
   "source": [
    "%timeit -n100000 Template(\"$x $y\").substitute(x=x, y=y)"
   ]
  },
  {
   "cell_type": "code",
   "execution_count": null,
   "id": "d04bcdea",
   "metadata": {},
   "outputs": [],
   "source": [
    "text = \"hello world\"\n",
    "\n",
    "# centrowanie ^ do lewej < do prawej >\n",
    "\n",
    "f\"{text:^20}\"\n"
   ]
  },
  {
   "cell_type": "code",
   "execution_count": null,
   "id": "dd2fc1ce",
   "metadata": {},
   "outputs": [],
   "source": [
    "number = 1234567890\n",
    "\n",
    "f\"{number:,}\""
   ]
  },
  {
   "cell_type": "code",
   "execution_count": null,
   "id": "0e6f121b",
   "metadata": {},
   "outputs": [],
   "source": [
    "number = 123\n",
    "\n",
    "f\"{number:08}\""
   ]
  },
  {
   "cell_type": "code",
   "execution_count": null,
   "id": "1dcb1332",
   "metadata": {},
   "outputs": [],
   "source": [
    "number = 254.3463\n",
    "'  $254.346'\n",
    "\n",
    "x = f'${number:.3f}'\n",
    "f\"{f'${number:.3f}':>10}\""
   ]
  },
  {
   "cell_type": "code",
   "execution_count": null,
   "id": "27b3125d",
   "metadata": {},
   "outputs": [],
   "source": [
    "width = 8\n",
    "precision = 3\n",
    "\n",
    "number = 42.12345\n",
    "\n",
    "f\"{number:{width}.{precision}f}\""
   ]
  },
  {
   "cell_type": "code",
   "execution_count": null,
   "id": "ca10d3b6",
   "metadata": {},
   "outputs": [],
   "source": [
    "import decimal"
   ]
  },
  {
   "cell_type": "code",
   "execution_count": null,
   "id": "26a6996b",
   "metadata": {},
   "outputs": [],
   "source": [
    "value = decimal.Decimal(\"42.12345\")\n",
    "value = 42.12345"
   ]
  },
  {
   "cell_type": "code",
   "execution_count": null,
   "id": "0a8b9e71",
   "metadata": {},
   "outputs": [],
   "source": [
    "f\"Result: {value:{'4.3' if value < 100 else '8.3'}f}\"   #"
   ]
  },
  {
   "cell_type": "code",
   "execution_count": null,
   "id": "44c9ea37",
   "metadata": {},
   "outputs": [],
   "source": [
    "f\"{(lambda x: x**2)(3)}\""
   ]
  },
  {
   "cell_type": "code",
   "execution_count": null,
   "id": "3f91901a",
   "metadata": {},
   "outputs": [],
   "source": [
    "c = lambda x: x**2\n",
    "c(3)"
   ]
  },
  {
   "cell_type": "code",
   "execution_count": null,
   "id": "552b3c7a",
   "metadata": {},
   "outputs": [],
   "source": [
    "(lambda x: x**2)(3)"
   ]
  },
  {
   "cell_type": "markdown",
   "id": "772245f8",
   "metadata": {},
   "source": [
    "### `bool`"
   ]
  },
  {
   "cell_type": "code",
   "execution_count": null,
   "id": "f83b2bb1",
   "metadata": {},
   "outputs": [],
   "source": [
    "False, True\n",
    "\n",
    "# and, or, not\n"
   ]
  },
  {
   "cell_type": "code",
   "execution_count": null,
   "id": "8731e5fb",
   "metadata": {},
   "outputs": [],
   "source": [
    "True + True"
   ]
  },
  {
   "cell_type": "code",
   "execution_count": null,
   "id": "3079b618",
   "metadata": {},
   "outputs": [],
   "source": [
    "# True / False"
   ]
  },
  {
   "cell_type": "code",
   "execution_count": null,
   "id": "cbbdfbf2",
   "metadata": {},
   "outputs": [],
   "source": [
    "bool(\"\"), bool([]), bool({}), bool(set()), bool(tuple()), bool(0), bool(0.0), bool(None))"
   ]
  },
  {
   "cell_type": "markdown",
   "id": "5b872520",
   "metadata": {},
   "source": [
    "### operator is\n",
    "\n",
    "x == True # (1 == True)\n",
    "\n",
    "x is True\n",
    "\n",
    "id()"
   ]
  },
  {
   "cell_type": "markdown",
   "id": "225273e3",
   "metadata": {},
   "source": [
    "### int"
   ]
  },
  {
   "cell_type": "code",
   "execution_count": null,
   "id": "896e50dd",
   "metadata": {},
   "outputs": [],
   "source": [
    "1\n",
    "123\n",
    "100_000_00"
   ]
  },
  {
   "cell_type": "code",
   "execution_count": null,
   "id": "16309ffd",
   "metadata": {},
   "outputs": [],
   "source": [
    "x = 123\n",
    "-x"
   ]
  },
  {
   "cell_type": "code",
   "execution_count": null,
   "id": "afb15e5b",
   "metadata": {},
   "outputs": [],
   "source": [
    "b = int('10')\n",
    "b"
   ]
  },
  {
   "cell_type": "code",
   "execution_count": null,
   "id": "3b09b192",
   "metadata": {},
   "outputs": [],
   "source": [
    "b = int('10', base=2)\n",
    "b"
   ]
  },
  {
   "cell_type": "code",
   "execution_count": null,
   "id": "9a9f014b",
   "metadata": {},
   "outputs": [],
   "source": [
    "\"101010101\" - dwojkowy\n",
    "\n",
    "\"12345\" - szesnastkowy"
   ]
  },
  {
   "cell_type": "code",
   "execution_count": null,
   "id": "983b3ae5",
   "metadata": {},
   "outputs": [],
   "source": [
    "0b101"
   ]
  },
  {
   "cell_type": "code",
   "execution_count": null,
   "id": "81bfd91a",
   "metadata": {},
   "outputs": [],
   "source": [
    "0o123"
   ]
  },
  {
   "cell_type": "code",
   "execution_count": null,
   "id": "2c34acd5",
   "metadata": {},
   "outputs": [],
   "source": [
    "0x123"
   ]
  },
  {
   "cell_type": "code",
   "execution_count": null,
   "id": "2d6c568a",
   "metadata": {},
   "outputs": [],
   "source": [
    "hex(291)"
   ]
  },
  {
   "cell_type": "code",
   "execution_count": null,
   "id": "fc409866",
   "metadata": {},
   "outputs": [],
   "source": [
    "oct(83)"
   ]
  },
  {
   "cell_type": "code",
   "execution_count": null,
   "id": "a9f10877",
   "metadata": {},
   "outputs": [],
   "source": [
    "bin(5)"
   ]
  },
  {
   "cell_type": "markdown",
   "id": "30cfa13b",
   "metadata": {},
   "source": [
    "### float"
   ]
  },
  {
   "cell_type": "code",
   "execution_count": null,
   "id": "9502a4b1",
   "metadata": {},
   "outputs": [],
   "source": [
    "1 / 3"
   ]
  },
  {
   "cell_type": "code",
   "execution_count": null,
   "id": "3888a29d",
   "metadata": {},
   "outputs": [],
   "source": [
    "0.1 + 0.1 + 0.1 == 0.3"
   ]
  },
  {
   "cell_type": "code",
   "execution_count": null,
   "id": "59f3bb44",
   "metadata": {},
   "outputs": [],
   "source": [
    "1.0 == 1.000_000_000_000_001  # 15 miejsc"
   ]
  },
  {
   "cell_type": "code",
   "execution_count": null,
   "id": "51ca4fc4",
   "metadata": {},
   "outputs": [],
   "source": [
    "1.0 == 1.000_000_000_000_000_1 # 16 miejsc"
   ]
  },
  {
   "cell_type": "code",
   "execution_count": null,
   "id": "3e50d85c",
   "metadata": {},
   "outputs": [],
   "source": [
    "import decimal"
   ]
  },
  {
   "cell_type": "code",
   "execution_count": null,
   "id": "6c9ec2b6",
   "metadata": {},
   "outputs": [],
   "source": [
    "decimal.Decimal(\"0.1\")"
   ]
  },
  {
   "cell_type": "code",
   "execution_count": null,
   "id": "067f3075",
   "metadata": {},
   "outputs": [],
   "source": [
    "decimal.Decimal(0.1)"
   ]
  },
  {
   "cell_type": "markdown",
   "id": "7c218883",
   "metadata": {},
   "source": [
    "https://pl.wikipedia.org/wiki/IEEE_754"
   ]
  },
  {
   "cell_type": "code",
   "execution_count": null,
   "id": "2215c1bd",
   "metadata": {},
   "outputs": [],
   "source": [
    "from decimal import Decimal\n",
    "\n",
    "# 0.1 + 0.1 + 0.1 == 0.3\n",
    "\n",
    "Decimal(\"0.1\") + Decimal(\"0.1\") + Decimal(\"0.1\") == Decimal(\"0.3\")"
   ]
  },
  {
   "cell_type": "code",
   "execution_count": null,
   "id": "c8ef2a86",
   "metadata": {},
   "outputs": [],
   "source": [
    "x = 0.1\n",
    "round(x + x + x, 16) == round(0.3, 16)"
   ]
  },
  {
   "cell_type": "code",
   "execution_count": null,
   "id": "f7a28f37",
   "metadata": {},
   "outputs": [],
   "source": [
    "round(x, 16) + round(x, 16) + round(x, 16) == round(0.3, 16)"
   ]
  },
  {
   "cell_type": "code",
   "execution_count": null,
   "id": "cf0cf0a4",
   "metadata": {},
   "outputs": [],
   "source": [
    "1e10"
   ]
  },
  {
   "cell_type": "code",
   "execution_count": null,
   "id": "5ed14f88",
   "metadata": {},
   "outputs": [],
   "source": [
    "1e-10"
   ]
  },
  {
   "cell_type": "code",
   "execution_count": null,
   "id": "3846c5ce",
   "metadata": {},
   "outputs": [],
   "source": [
    "2e-2"
   ]
  },
  {
   "cell_type": "code",
   "execution_count": null,
   "id": "af3ba55a",
   "metadata": {},
   "outputs": [],
   "source": [
    "5e-324"
   ]
  },
  {
   "cell_type": "code",
   "execution_count": null,
   "id": "65386aea",
   "metadata": {},
   "outputs": [],
   "source": [
    "5e-325"
   ]
  },
  {
   "cell_type": "code",
   "execution_count": null,
   "id": "c3e69d7f",
   "metadata": {},
   "outputs": [],
   "source": [
    "1.79e308"
   ]
  },
  {
   "cell_type": "code",
   "execution_count": null,
   "id": "bacd27d0",
   "metadata": {},
   "outputs": [],
   "source": [
    "1.8e308"
   ]
  },
  {
   "cell_type": "code",
   "execution_count": null,
   "id": "9a11f5ba",
   "metadata": {},
   "outputs": [],
   "source": [
    "type(1.8e308)"
   ]
  },
  {
   "cell_type": "code",
   "execution_count": null,
   "id": "b5ee9a39",
   "metadata": {},
   "outputs": [],
   "source": [
    "float('inf') + 10"
   ]
  },
  {
   "cell_type": "code",
   "execution_count": null,
   "id": "8d51c722",
   "metadata": {},
   "outputs": [],
   "source": [
    "float(\"inf\") / 10000000"
   ]
  },
  {
   "cell_type": "code",
   "execution_count": null,
   "id": "0f90bf05",
   "metadata": {},
   "outputs": [],
   "source": [
    "float(\"inf\") / float(\"inf\")"
   ]
  },
  {
   "cell_type": "code",
   "execution_count": null,
   "id": "e422c658",
   "metadata": {},
   "outputs": [],
   "source": [
    "float(\"inf\") == float(\"inf\")"
   ]
  },
  {
   "cell_type": "code",
   "execution_count": null,
   "id": "e603b53b",
   "metadata": {},
   "outputs": [],
   "source": [
    "float(\"nan\") == float(\"nan\")"
   ]
  },
  {
   "cell_type": "code",
   "execution_count": null,
   "id": "a27ec917",
   "metadata": {},
   "outputs": [],
   "source": [
    "float(\"-inf\") < 10 < float(\"inf\")"
   ]
  },
  {
   "cell_type": "code",
   "execution_count": null,
   "id": "5490d4f3",
   "metadata": {},
   "outputs": [],
   "source": [
    "float(\"-inf\") < float(\"nan\") < float(\"inf\")"
   ]
  },
  {
   "cell_type": "code",
   "execution_count": null,
   "id": "8b709fa5",
   "metadata": {},
   "outputs": [],
   "source": [
    "import math\n",
    "\n",
    "math.isnan(float('nan'))"
   ]
  },
  {
   "cell_type": "code",
   "execution_count": null,
   "id": "2aeb8892",
   "metadata": {},
   "outputs": [],
   "source": [
    "hex(12648430)"
   ]
  },
  {
   "cell_type": "markdown",
   "id": "63e1f2f3",
   "metadata": {},
   "source": [
    "### complex"
   ]
  },
  {
   "cell_type": "code",
   "execution_count": null,
   "id": "969e8b26",
   "metadata": {},
   "outputs": [],
   "source": [
    "1 + 3j + 2 + 5j"
   ]
  },
  {
   "cell_type": "code",
   "execution_count": null,
   "id": "91054bb6",
   "metadata": {},
   "outputs": [],
   "source": [
    "1 + 3j ** 2 + 5j"
   ]
  },
  {
   "cell_type": "markdown",
   "id": "3f8bc12f",
   "metadata": {},
   "source": [
    "### bytes\n",
    "\n",
    "ciag surowych bajtow"
   ]
  },
  {
   "cell_type": "code",
   "execution_count": null,
   "id": "11b31ef4",
   "metadata": {},
   "outputs": [],
   "source": [
    "\"ges\".encode('utf-8')"
   ]
  },
  {
   "cell_type": "code",
   "execution_count": null,
   "id": "20037010",
   "metadata": {},
   "outputs": [],
   "source": [
    "\"gęś\".encode('utf-8')"
   ]
  },
  {
   "cell_type": "code",
   "execution_count": null,
   "id": "4c9f2192",
   "metadata": {},
   "outputs": [],
   "source": [
    "b'g\\xc4\\x99\\xc5\\x9b'.decode('utf-8')"
   ]
  },
  {
   "cell_type": "code",
   "execution_count": null,
   "id": "44a1d538",
   "metadata": {},
   "outputs": [],
   "source": [
    "x = \"gęś\"\n",
    "\n",
    "bytes(x, 'utf-8')"
   ]
  },
  {
   "cell_type": "markdown",
   "id": "b44693ac",
   "metadata": {},
   "source": [
    "http://lnkiy.in/0hqga"
   ]
  },
  {
   "cell_type": "code",
   "execution_count": null,
   "id": "4305eced",
   "metadata": {},
   "outputs": [],
   "source": [
    "b = b'za\\xbf\\xf3\\xb3\\xe6 g\\xea\\xb6l\\xb1 ja\\xbc\\xf1'"
   ]
  },
  {
   "cell_type": "code",
   "execution_count": null,
   "id": "53d60f6b",
   "metadata": {},
   "outputs": [],
   "source": [
    "b.decode('iso-8859-2')"
   ]
  },
  {
   "cell_type": "markdown",
   "id": "704a65f2",
   "metadata": {},
   "source": [
    "### wyrazenie \n",
    "\n",
    "    if <warunek>:\n",
    "        <blok 1>\n",
    "    elif <warunek 2>:\n",
    "        <block 2\n",
    "    ...\n",
    "    else:\n",
    "       < block n+1>\n",
    "\n",
    "           "
   ]
  },
  {
   "cell_type": "code",
   "execution_count": null,
   "id": "02ad1b93",
   "metadata": {},
   "outputs": [],
   "source": [
    "x = []\n",
    "\n",
    "if x:\n",
    "    print(\"Lista nie jest pusta\")\n",
    "    \n"
   ]
  },
  {
   "cell_type": "code",
   "execution_count": null,
   "id": "923951de",
   "metadata": {},
   "outputs": [],
   "source": [
    "x = 1\n",
    "y = 0\n",
    "\n",
    "if x == 1 or x / y == 1:\n",
    "    print(\"cos\")\n",
    "    \n",
    "if x == 10 and x / y == 1:\n",
    "    print(\"Cos2\")"
   ]
  },
  {
   "cell_type": "code",
   "execution_count": null,
   "id": "2771fa85",
   "metadata": {},
   "outputs": [],
   "source": [
    "any([]), all([])"
   ]
  },
  {
   "cell_type": "code",
   "execution_count": null,
   "id": "d44202ca",
   "metadata": {},
   "outputs": [],
   "source": [
    "any([True, False, False])"
   ]
  },
  {
   "cell_type": "code",
   "execution_count": null,
   "id": "ce25cbca",
   "metadata": {},
   "outputs": [],
   "source": [
    "if True or False or False:\n",
    "    print(\"prawda\")"
   ]
  },
  {
   "cell_type": "code",
   "execution_count": null,
   "id": "e7530e53",
   "metadata": {},
   "outputs": [],
   "source": [
    "if any([\n",
    "    x == 1,\n",
    "    x > 450,\n",
    "    1 / 0\n",
    "]): print(\"x\")"
   ]
  },
  {
   "cell_type": "markdown",
   "id": "db6ce3a4",
   "metadata": {},
   "source": [
    "## wbudowane kolekcje"
   ]
  },
  {
   "cell_type": "markdown",
   "id": "1aa759b3",
   "metadata": {},
   "source": [
    "tuple()"
   ]
  },
  {
   "cell_type": "code",
   "execution_count": null,
   "id": "e9bfd8e3",
   "metadata": {},
   "outputs": [],
   "source": [
    "(1,)"
   ]
  },
  {
   "cell_type": "code",
   "execution_count": null,
   "id": "378c9ec2",
   "metadata": {},
   "outputs": [],
   "source": [
    "x = (1, 2, 3)"
   ]
  },
  {
   "cell_type": "code",
   "execution_count": null,
   "id": "13e2fc79",
   "metadata": {},
   "outputs": [],
   "source": [
    "x[0]"
   ]
  },
  {
   "cell_type": "code",
   "execution_count": null,
   "id": "279de1f9",
   "metadata": {},
   "outputs": [],
   "source": [
    "x = (10, ) + x[1:]"
   ]
  },
  {
   "cell_type": "code",
   "execution_count": null,
   "id": "0d123fbb",
   "metadata": {},
   "outputs": [],
   "source": [
    "x"
   ]
  },
  {
   "cell_type": "code",
   "execution_count": null,
   "id": "51ed98e0",
   "metadata": {},
   "outputs": [],
   "source": [
    "dir(x)"
   ]
  },
  {
   "cell_type": "markdown",
   "id": "8a1d66b0",
   "metadata": {},
   "source": [
    "### list\n"
   ]
  },
  {
   "cell_type": "code",
   "execution_count": null,
   "id": "44214648",
   "metadata": {},
   "outputs": [],
   "source": [
    "list()"
   ]
  },
  {
   "cell_type": "code",
   "execution_count": null,
   "id": "bf876fbc",
   "metadata": {},
   "outputs": [],
   "source": [
    "[1]"
   ]
  },
  {
   "cell_type": "code",
   "execution_count": null,
   "id": "536af2c3",
   "metadata": {},
   "outputs": [],
   "source": [
    "[1, ]"
   ]
  },
  {
   "cell_type": "code",
   "execution_count": null,
   "id": "580c88e3",
   "metadata": {},
   "outputs": [],
   "source": [
    "x = [1]\n",
    "x.append(x)"
   ]
  },
  {
   "cell_type": "code",
   "execution_count": null,
   "id": "6aca50b1",
   "metadata": {},
   "outputs": [],
   "source": [
    "x"
   ]
  },
  {
   "cell_type": "code",
   "execution_count": null,
   "id": "72d48610",
   "metadata": {},
   "outputs": [],
   "source": [
    "x[1]"
   ]
  },
  {
   "cell_type": "code",
   "execution_count": null,
   "id": "492edc28",
   "metadata": {},
   "outputs": [],
   "source": [
    "x[1] = 2"
   ]
  },
  {
   "cell_type": "code",
   "execution_count": null,
   "id": "7da8cd02",
   "metadata": {},
   "outputs": [],
   "source": [
    "x"
   ]
  },
  {
   "cell_type": "code",
   "execution_count": null,
   "id": "d4199905",
   "metadata": {},
   "outputs": [],
   "source": [
    "dir(x)"
   ]
  },
  {
   "cell_type": "code",
   "execution_count": null,
   "id": "3c3d6e93",
   "metadata": {},
   "outputs": [],
   "source": [
    "x.append?"
   ]
  },
  {
   "cell_type": "code",
   "execution_count": null,
   "id": "c54abf41",
   "metadata": {},
   "outputs": [],
   "source": [
    "x.insert?"
   ]
  },
  {
   "cell_type": "code",
   "execution_count": null,
   "id": "0d2735fc",
   "metadata": {},
   "outputs": [],
   "source": [
    "x.reverse()"
   ]
  },
  {
   "cell_type": "code",
   "execution_count": null,
   "id": "5c96f240",
   "metadata": {},
   "outputs": [],
   "source": [
    "x"
   ]
  },
  {
   "cell_type": "code",
   "execution_count": null,
   "id": "6b772c51",
   "metadata": {},
   "outputs": [],
   "source": [
    "x.sort()"
   ]
  },
  {
   "cell_type": "code",
   "execution_count": null,
   "id": "8943749e",
   "metadata": {},
   "outputs": [],
   "source": [
    "x"
   ]
  },
  {
   "cell_type": "code",
   "execution_count": null,
   "id": "d739ed6b",
   "metadata": {},
   "outputs": [],
   "source": [
    "sorted(x, reverse=True)"
   ]
  },
  {
   "cell_type": "code",
   "execution_count": null,
   "id": "c3ea40d1",
   "metadata": {},
   "outputs": [],
   "source": [
    "x"
   ]
  },
  {
   "cell_type": "code",
   "execution_count": null,
   "id": "0edbc67e",
   "metadata": {},
   "outputs": [],
   "source": [
    "x = list(range(100))"
   ]
  },
  {
   "cell_type": "code",
   "execution_count": null,
   "id": "102a4287",
   "metadata": {},
   "outputs": [],
   "source": [
    "x[10:50:20]"
   ]
  },
  {
   "cell_type": "code",
   "execution_count": null,
   "id": "1e27ca26",
   "metadata": {},
   "outputs": [],
   "source": [
    "s = slice(10,50,20)"
   ]
  },
  {
   "cell_type": "code",
   "execution_count": null,
   "id": "9075ea08",
   "metadata": {},
   "outputs": [],
   "source": [
    "s"
   ]
  },
  {
   "cell_type": "code",
   "execution_count": null,
   "id": "cb58412f",
   "metadata": {},
   "outputs": [],
   "source": [
    "x[s]"
   ]
  },
  {
   "cell_type": "markdown",
   "id": "29373e3a",
   "metadata": {},
   "source": [
    "### napis - str"
   ]
  },
  {
   "cell_type": "code",
   "execution_count": null,
   "id": "33349445",
   "metadata": {},
   "outputs": [],
   "source": [
    "napis = \"ala ma kota\"\n",
    "\n",
    "napis[0]"
   ]
  },
  {
   "cell_type": "code",
   "execution_count": null,
   "id": "c6e2dc14",
   "metadata": {},
   "outputs": [],
   "source": [
    "len(napis)"
   ]
  },
  {
   "cell_type": "code",
   "execution_count": null,
   "id": "d101f042",
   "metadata": {},
   "outputs": [],
   "source": [
    "#### palindrom\n",
    "\n",
    "x = \"Kobyła ma mały bok!\"\n",
    "\n",
    "def is_palindrom(text: str) -> bool:\n",
    "    text = [x for x in text.lower() if x.isalnum()]\n",
    "    return text == text[::-1]\n",
    "    \n",
    "assert is_palindrom(x) is True\n",
    "assert is_palindrom(\"dom\") is False"
   ]
  },
  {
   "cell_type": "code",
   "execution_count": null,
   "id": "3efd2618",
   "metadata": {},
   "outputs": [],
   "source": [
    "dir(\"x[::-1]\")"
   ]
  },
  {
   "cell_type": "code",
   "execution_count": null,
   "id": "b32b5278",
   "metadata": {},
   "outputs": [],
   "source": [
    "\"a\".isalnum()"
   ]
  },
  {
   "cell_type": "code",
   "execution_count": null,
   "id": "e328c88e",
   "metadata": {},
   "outputs": [],
   "source": [
    "\"!\".isalnum()"
   ]
  },
  {
   "cell_type": "markdown",
   "id": "7610d1e9",
   "metadata": {},
   "source": [
    "### słownik - dict"
   ]
  },
  {
   "cell_type": "code",
   "execution_count": null,
   "id": "d6716616",
   "metadata": {},
   "outputs": [],
   "source": [
    "dict()"
   ]
  },
  {
   "cell_type": "code",
   "execution_count": null,
   "id": "81321502",
   "metadata": {},
   "outputs": [],
   "source": [
    "{}"
   ]
  },
  {
   "cell_type": "code",
   "execution_count": null,
   "id": "5d949714",
   "metadata": {},
   "outputs": [],
   "source": [
    "x = {'x 1': 1, \"y\": 2}\n"
   ]
  },
  {
   "cell_type": "code",
   "execution_count": null,
   "id": "a2c05c8f",
   "metadata": {},
   "outputs": [],
   "source": [
    "x"
   ]
  },
  {
   "cell_type": "code",
   "execution_count": null,
   "id": "ecbba0aa",
   "metadata": {},
   "outputs": [],
   "source": [
    "x = dict(x=1, y=2)"
   ]
  },
  {
   "cell_type": "code",
   "execution_count": null,
   "id": "c72a3037",
   "metadata": {},
   "outputs": [],
   "source": [
    "x.items()"
   ]
  },
  {
   "cell_type": "code",
   "execution_count": null,
   "id": "043d15d4",
   "metadata": {},
   "outputs": [],
   "source": [
    "y = dict((('a', 2), ('b', 3)))"
   ]
  },
  {
   "cell_type": "code",
   "execution_count": null,
   "id": "51a47a37",
   "metadata": {},
   "outputs": [],
   "source": [
    "y"
   ]
  },
  {
   "cell_type": "code",
   "execution_count": null,
   "id": "bfb5ce19",
   "metadata": {},
   "outputs": [],
   "source": [
    "for k, v in y.items():\n",
    "    print(k, \"->\", v)"
   ]
  },
  {
   "cell_type": "code",
   "execution_count": null,
   "id": "f4441279",
   "metadata": {},
   "outputs": [],
   "source": [
    "dir(y)"
   ]
  },
  {
   "cell_type": "code",
   "execution_count": null,
   "id": "ef105cc1",
   "metadata": {},
   "outputs": [],
   "source": [
    "y.fromkeys??"
   ]
  },
  {
   "cell_type": "code",
   "execution_count": null,
   "id": "f1f55c2f",
   "metadata": {},
   "outputs": [],
   "source": [
    "x = ['a', 'b', 'c']\n",
    "\n",
    "xx = dict.fromkeys(x, 10)"
   ]
  },
  {
   "cell_type": "code",
   "execution_count": null,
   "id": "d575985a",
   "metadata": {},
   "outputs": [],
   "source": [
    "xx"
   ]
  },
  {
   "cell_type": "markdown",
   "id": "d27cc1a4",
   "metadata": {},
   "source": [
    "### set"
   ]
  },
  {
   "cell_type": "code",
   "execution_count": null,
   "id": "14f43d11",
   "metadata": {},
   "outputs": [],
   "source": [
    "s = {\"a\", \"b\", \"a\"}"
   ]
  },
  {
   "cell_type": "code",
   "execution_count": null,
   "id": "5524cf38",
   "metadata": {},
   "outputs": [],
   "source": [
    "s"
   ]
  },
  {
   "cell_type": "code",
   "execution_count": null,
   "id": "5cc69e11",
   "metadata": {},
   "outputs": [],
   "source": [
    "s1 = {1, 2, 3}\n",
    "s2 = {2, 3, 4}\n",
    "\n",
    "s1 & s2"
   ]
  },
  {
   "cell_type": "code",
   "execution_count": null,
   "id": "a16c1ee0",
   "metadata": {},
   "outputs": [],
   "source": [
    "s1.issubset()"
   ]
  },
  {
   "cell_type": "code",
   "execution_count": null,
   "id": "942fff52",
   "metadata": {},
   "outputs": [],
   "source": [
    "{2, 3}.issubset(s1)"
   ]
  },
  {
   "cell_type": "code",
   "execution_count": null,
   "id": "592a9ae6",
   "metadata": {},
   "outputs": [],
   "source": [
    "s1 ^ s2"
   ]
  },
  {
   "cell_type": "code",
   "execution_count": null,
   "id": "f389eb0e",
   "metadata": {},
   "outputs": [],
   "source": [
    "len(y), len(s)"
   ]
  },
  {
   "cell_type": "code",
   "execution_count": null,
   "id": "1e39c39d",
   "metadata": {},
   "outputs": [],
   "source": [
    "frozenset(s2)"
   ]
  },
  {
   "cell_type": "markdown",
   "id": "7f4d7ceb",
   "metadata": {},
   "source": [
    "### idiomy pythonowe - wyrazenia\n",
    "\n",
    "listowe, generatorowe, slownikowe ...\n"
   ]
  },
  {
   "cell_type": "code",
   "execution_count": null,
   "id": "3bb77ecc",
   "metadata": {},
   "outputs": [],
   "source": [
    "[x for x in range(100) if x % 5 == 0]"
   ]
  },
  {
   "cell_type": "code",
   "execution_count": null,
   "id": "c0b774d4",
   "metadata": {},
   "outputs": [],
   "source": [
    "reslt = []\n",
    "\n",
    "for x in range(100):\n",
    "    if x % 5 == 0:\n",
    "        reslt.append(x)\n",
    "        \n",
    "reslt\n"
   ]
  },
  {
   "cell_type": "code",
   "execution_count": null,
   "id": "c05aaf42",
   "metadata": {},
   "outputs": [],
   "source": [
    "{x for x in range(100) if x % 5 == 0}"
   ]
  },
  {
   "cell_type": "code",
   "execution_count": null,
   "id": "ab5ba569",
   "metadata": {},
   "outputs": [],
   "source": [
    "{x: x**2 for x in range(100) if x % 5 == 0}"
   ]
  },
  {
   "cell_type": "markdown",
   "id": "d28e26cc",
   "metadata": {},
   "source": [
    "#### Przy pomocy wyrazenia listowego utworz liste list, reprezentujaca tabliczke mnozenia 1-10\n",
    "\n",
    "    [\n",
    "        [1, 2, 3, 4, 5, ...],\n",
    "        [2, 3, 6, 8, 10, ...],\n",
    "        ...\n",
    "        \n",
    "    ]"
   ]
  },
  {
   "cell_type": "code",
   "execution_count": null,
   "id": "bb6c14ba",
   "metadata": {},
   "outputs": [],
   "source": [
    "[[x * y for x in range(1, 11)] for y in range(1, 11)]"
   ]
  },
  {
   "cell_type": "markdown",
   "id": "383d79c6",
   "metadata": {},
   "source": [
    "### petle\n",
    "\n",
    "#### while"
   ]
  },
  {
   "cell_type": "code",
   "execution_count": null,
   "id": "c1ef326a",
   "metadata": {},
   "outputs": [],
   "source": [
    "x = 10\n",
    "while x > 1:\n",
    "    print(x)\n",
    "    x -= 1"
   ]
  },
  {
   "cell_type": "code",
   "execution_count": null,
   "id": "9d25c99a",
   "metadata": {},
   "outputs": [],
   "source": [
    "while True:\n",
    "    x = input(\"podaj dane lub x by zakonczyc\")\n",
    "    if x == \"x\":\n",
    "        break"
   ]
  },
  {
   "cell_type": "code",
   "execution_count": null,
   "id": "8a8772e7",
   "metadata": {},
   "outputs": [],
   "source": [
    "x = [1, 2, 3, 4]\n",
    "\n",
    "i = 0\n",
    "while i < len(x):\n",
    "    print(x[i])\n",
    "    i += 1"
   ]
  },
  {
   "cell_type": "markdown",
   "id": "fc390827",
   "metadata": {},
   "source": [
    "#### for"
   ]
  },
  {
   "cell_type": "code",
   "execution_count": null,
   "id": "cfe73c4d",
   "metadata": {},
   "outputs": [],
   "source": [
    "for i in x: \n",
    "    print(i)\n",
    "    if i == 4:\n",
    "        continue\n",
    "else:\n",
    "    print(\"Petla skonczyla sie naturalnie\")"
   ]
  },
  {
   "cell_type": "code",
   "execution_count": null,
   "id": "3d347eac",
   "metadata": {},
   "outputs": [],
   "source": [
    "one = [1, 2, 3]\n",
    "two = [4, 5, 6]\n",
    "\n",
    "\n",
    "for i in range(len(one)):\n",
    "    print(one[i] + two[i])"
   ]
  },
  {
   "cell_type": "code",
   "execution_count": null,
   "id": "ab207ba1",
   "metadata": {},
   "outputs": [],
   "source": [
    "one = [1, 2]\n",
    "two = [4, 5, 6]\n",
    "\n",
    "for i, v in enumerate(one):\n",
    "    print(v + two[i])"
   ]
  },
  {
   "cell_type": "code",
   "execution_count": null,
   "id": "f68761bc",
   "metadata": {},
   "outputs": [],
   "source": [
    "one = [1, 2, 3]\n",
    "two = [4, 5]\n",
    "\n",
    "\n",
    "for v1, v2 in zip(one, two):\n",
    "    print(v1 + v2)"
   ]
  },
  {
   "cell_type": "markdown",
   "id": "530454b0",
   "metadata": {},
   "source": [
    "## wyjatki\n"
   ]
  },
  {
   "cell_type": "code",
   "execution_count": null,
   "id": "1709a81d",
   "metadata": {},
   "outputs": [],
   "source": [
    "try:\n",
    "    1 + int(\"s\")\n",
    "except ZeroDivisionError:\n",
    "    print(\"Dzielenie przez zero\")\n",
    "except [ValueError, TypeError]:\n",
    "    print(e)"
   ]
  },
  {
   "cell_type": "code",
   "execution_count": null,
   "id": "94fb83c6",
   "metadata": {},
   "outputs": [],
   "source": [
    "class MyException(Exception):\n",
    "    pass\n",
    "\n",
    "raise MyException(\"blad ... \")"
   ]
  },
  {
   "cell_type": "code",
   "execution_count": null,
   "id": "1008daee",
   "metadata": {},
   "outputs": [],
   "source": [
    "def is_palindrom(text: str) -> bool:\n",
    "    text = ''.join(filter(str.isalpha, text.lower()))\n",
    "    rev = reversed(text) # rev = text[::-1]\n",
    "    \n",
    "#     if text == rev:\n",
    "#         return True\n",
    "#     else:\n",
    "#         return False\n",
    "    \n",
    "    return text == rev\n",
    "    "
   ]
  },
  {
   "cell_type": "markdown",
   "id": "9cf7751c",
   "metadata": {},
   "source": [
    "## Funkcje\n",
    "\n"
   ]
  },
  {
   "cell_type": "code",
   "execution_count": null,
   "id": "9e0b2e12",
   "metadata": {},
   "outputs": [],
   "source": [
    "print()"
   ]
  },
  {
   "cell_type": "code",
   "execution_count": null,
   "id": "2ad770cf",
   "metadata": {},
   "outputs": [],
   "source": [
    "print(10, 20)"
   ]
  },
  {
   "cell_type": "code",
   "execution_count": null,
   "id": "f5dcfe35",
   "metadata": {},
   "outputs": [],
   "source": [
    "from typing import Union\n",
    "\n",
    "def add(a: int, b: int, return_float: bool=False) -> Union[int, float]:\n",
    "    result = a + b \n",
    "    if return_float: \n",
    "        result = float(result)\n",
    "    return result\n",
    "\n",
    "add(1, 2, 1)"
   ]
  },
  {
   "cell_type": "code",
   "execution_count": null,
   "id": "2d76dee7",
   "metadata": {},
   "outputs": [],
   "source": [
    "add(1, 2, return_float=True)"
   ]
  },
  {
   "cell_type": "code",
   "execution_count": null,
   "id": "39323c00",
   "metadata": {},
   "outputs": [],
   "source": [
    "add(b=2, a=1, return_float=True)"
   ]
  },
  {
   "cell_type": "code",
   "execution_count": null,
   "id": "9561b7f7",
   "metadata": {},
   "outputs": [],
   "source": [
    "def add(a, b, /, *, return_float=False):\n",
    "    result = a + b \n",
    "    if return_float: \n",
    "        result = float(result)\n",
    "    return result\n",
    "\n",
    "add(1, 2)"
   ]
  },
  {
   "cell_type": "code",
   "execution_count": null,
   "id": "17258335",
   "metadata": {},
   "outputs": [],
   "source": [
    "add(1, 2, return_float=True)"
   ]
  },
  {
   "cell_type": "code",
   "execution_count": null,
   "id": "2a4f4ab8",
   "metadata": {},
   "outputs": [],
   "source": [
    "add(a=1, b=2)"
   ]
  },
  {
   "cell_type": "code",
   "execution_count": null,
   "id": "60fd3000",
   "metadata": {},
   "outputs": [],
   "source": [
    "help(print)"
   ]
  },
  {
   "cell_type": "code",
   "execution_count": null,
   "id": "051aca01",
   "metadata": {},
   "outputs": [],
   "source": [
    "help(map)"
   ]
  },
  {
   "cell_type": "code",
   "execution_count": null,
   "id": "1d6a8f27",
   "metadata": {},
   "outputs": [],
   "source": [
    "from typing import List\n",
    "\n",
    "def add(a: int, b: int, *args: List[int]) -> int:\n",
    "    print(args)\n",
    "    return a + b + sum(args)\n",
    "\n",
    "add(1, 2)"
   ]
  },
  {
   "cell_type": "code",
   "execution_count": null,
   "id": "5845aaad",
   "metadata": {},
   "outputs": [],
   "source": [
    "add(1, 2, 3, 4, 5,6)"
   ]
  },
  {
   "cell_type": "code",
   "execution_count": null,
   "id": "78c7d711",
   "metadata": {},
   "outputs": [],
   "source": [
    "a, b, *args = 1, 2, 3, 4, 5, 6"
   ]
  },
  {
   "cell_type": "code",
   "execution_count": null,
   "id": "e551c9cc",
   "metadata": {},
   "outputs": [],
   "source": [
    "args"
   ]
  },
  {
   "cell_type": "code",
   "execution_count": null,
   "id": "b5344839",
   "metadata": {},
   "outputs": [],
   "source": [
    "def f(**kwargs):\n",
    "    for k, v in kwargs.items():\n",
    "        print(k, \"->\", v)\n",
    "        \n",
    "f()\n",
    "f(a=1)"
   ]
  },
  {
   "cell_type": "code",
   "execution_count": null,
   "id": "ecb517b9",
   "metadata": {},
   "outputs": [],
   "source": [
    "f(1)"
   ]
  },
  {
   "cell_type": "code",
   "execution_count": null,
   "id": "d5c51f2b",
   "metadata": {},
   "outputs": [],
   "source": [
    "def f(a, b, *args, c=1, d=2, **kwargs):\n",
    "    print(a, b, args, c, d, kwargs)\n",
    "\n",
    "f(1, 2)\n",
    "\n",
    "f(1, 2, 3, 4, 5, 6)\n",
    "\n",
    "f(3, 4, 55, c=45, d=89, e=1, f=2)"
   ]
  },
  {
   "cell_type": "code",
   "execution_count": null,
   "id": "0aaf9b3a",
   "metadata": {},
   "outputs": [],
   "source": [
    "def f(*args, **kwargs):\n",
    "    pass"
   ]
  },
  {
   "cell_type": "markdown",
   "id": "7bf8969b",
   "metadata": {},
   "source": [
    "### Pulapka domyslnej wartosci"
   ]
  },
  {
   "cell_type": "code",
   "execution_count": null,
   "id": "4788f68f",
   "metadata": {},
   "outputs": [],
   "source": [
    "from typing import Any, List, Optional\n",
    "\n",
    "def add_element(a: Any, elements: Optional[List] = None) -> List:\n",
    "    if not elements:\n",
    "        elements = []\n",
    "    elements.append(a)\n",
    "    return elements\n",
    "\n",
    "\n",
    "# add_element(1) -> [1]"
   ]
  },
  {
   "cell_type": "code",
   "execution_count": null,
   "id": "8d9d7517",
   "metadata": {},
   "outputs": [],
   "source": [
    "x = add_element(1)\n",
    "x"
   ]
  },
  {
   "cell_type": "code",
   "execution_count": null,
   "id": "d3b5cc08",
   "metadata": {},
   "outputs": [],
   "source": [
    "add_element(2)  # [2]"
   ]
  },
  {
   "cell_type": "code",
   "execution_count": null,
   "id": "f987e1d1",
   "metadata": {},
   "outputs": [],
   "source": [
    "add_element.__defaults__"
   ]
  },
  {
   "cell_type": "code",
   "execution_count": null,
   "id": "db8dbe2c",
   "metadata": {},
   "outputs": [],
   "source": [
    "add = lambda x, y: x+y \n",
    "\n",
    "add(1, 2)"
   ]
  },
  {
   "cell_type": "code",
   "execution_count": null,
   "id": "4f56bdcd",
   "metadata": {},
   "outputs": [],
   "source": [
    "def add1(x: int, y: int) -> int:\n",
    "    return x + y"
   ]
  },
  {
   "cell_type": "code",
   "execution_count": null,
   "id": "1c62f990",
   "metadata": {},
   "outputs": [],
   "source": [
    "type(add)"
   ]
  },
  {
   "cell_type": "code",
   "execution_count": null,
   "id": "0d82dd82",
   "metadata": {},
   "outputs": [],
   "source": [
    "type(add1)"
   ]
  },
  {
   "cell_type": "code",
   "execution_count": null,
   "id": "1ee08302",
   "metadata": {},
   "outputs": [],
   "source": [
    "add.__name__"
   ]
  },
  {
   "cell_type": "code",
   "execution_count": null,
   "id": "9f6c42f5",
   "metadata": {},
   "outputs": [],
   "source": [
    "add1.__name__"
   ]
  },
  {
   "cell_type": "code",
   "execution_count": null,
   "id": "088a9400",
   "metadata": {},
   "outputs": [],
   "source": [
    "add1.__annotations__"
   ]
  },
  {
   "cell_type": "code",
   "execution_count": null,
   "id": "02e16695",
   "metadata": {},
   "outputs": [],
   "source": [
    "add.__annotations__\n"
   ]
  },
  {
   "cell_type": "markdown",
   "id": "d876ea84",
   "metadata": {},
   "source": [
    "### funkcja to tez obiekt"
   ]
  },
  {
   "cell_type": "code",
   "execution_count": null,
   "id": "3fd1f123",
   "metadata": {},
   "outputs": [],
   "source": [
    "functions = [sum, max, min]\n",
    "collection = [1, 2, 3, 4, 5]\n",
    "\n",
    "for f in functions:\n",
    "    print(f.__name__, f(collection))"
   ]
  },
  {
   "cell_type": "code",
   "execution_count": null,
   "id": "624e235d",
   "metadata": {},
   "outputs": [],
   "source": [
    "def add(a, b): \n",
    "    \"\"\"suma dwoch liczb\"\"\"\n",
    "    return a + b\n",
    "\n",
    "def sub(a, b): return a - b\n",
    "\n",
    "operations = {\n",
    "    \"+\": add,\n",
    "    \"-\": sub,\n",
    "}\n",
    "\n",
    "operation = \"-\"\n",
    "operations[operation](1, 2)"
   ]
  },
  {
   "cell_type": "code",
   "execution_count": null,
   "id": "b1546234",
   "metadata": {},
   "outputs": [],
   "source": [
    "if operation == \"+\":\n",
    "    result = add(1, 2)\n",
    "elif ..."
   ]
  },
  {
   "cell_type": "code",
   "execution_count": null,
   "id": "82aca405",
   "metadata": {},
   "outputs": [],
   "source": [
    "add.__doc__"
   ]
  },
  {
   "cell_type": "markdown",
   "id": "03916a83",
   "metadata": {},
   "source": [
    "### rekurencja\n",
    "\n"
   ]
  },
  {
   "cell_type": "code",
   "execution_count": null,
   "id": "7970c0d7",
   "metadata": {},
   "outputs": [],
   "source": [
    "# n! = n * (n-1)!\n",
    "\n",
    "\n",
    "def silnia(liczba):\n",
    "    print(\"liczba\", liczba)\n",
    "    if liczba == 0:\n",
    "        return 1\n",
    "    return liczba * silnia(liczba - 1)\n",
    "\n",
    "silnia(3)  # 3 * 2 * 1 * 1"
   ]
  },
  {
   "cell_type": "markdown",
   "id": "106f6b86",
   "metadata": {},
   "source": [
    "### zadanie: delay\n",
    "\n",
    "napisz funkcje ktora wywola funkcje przekazana jako argument - z przekazanymi argumentami (uniwersalne podejscie) z pewnym opoznieniem w milisekundach, ktore jest ustawiane\n",
    "\n",
    "    >>>delay(lambda x: x ** 0.5, 100, 16)\n",
    "    4.0\n",
    "\n",
    "    >>> delay(print, 2000, \"Ala ma kota\", \"Asa\", sep=\"-\")\n",
    "    Ala ma kota-Asa"
   ]
  },
  {
   "cell_type": "code",
   "execution_count": null,
   "id": "8e2d2616",
   "metadata": {},
   "outputs": [],
   "source": [
    "import time\n",
    "x= 1000\n",
    "time.sleep(x/1000)"
   ]
  },
  {
   "cell_type": "code",
   "execution_count": null,
   "id": "ba0e7058",
   "metadata": {},
   "outputs": [],
   "source": [
    "type(\"a\")"
   ]
  },
  {
   "cell_type": "code",
   "execution_count": null,
   "id": "9b4dd61d",
   "metadata": {},
   "outputs": [],
   "source": [
    "isinstance(\"a\", str)"
   ]
  },
  {
   "cell_type": "code",
   "execution_count": null,
   "id": "756608e8",
   "metadata": {},
   "outputs": [],
   "source": [
    "from time import sleep\n",
    "from typing import Callable, Any\n",
    "\n",
    "def delay(func: Callable, ms: int, *args, **kwargs) -> Any:\n",
    "    sleep(ms / 1000)\n",
    "    return func(*args, **kwargs)\n",
    "\n",
    "delay(print, 1500, \"Ala ma kota\", \"Asa\", sep=\"-\")"
   ]
  },
  {
   "cell_type": "code",
   "execution_count": null,
   "id": "90727d32",
   "metadata": {},
   "outputs": [],
   "source": [
    "len([1, 2, 3])"
   ]
  },
  {
   "cell_type": "code",
   "execution_count": null,
   "id": "e01b3d75",
   "metadata": {},
   "outputs": [],
   "source": [
    "a = [x for x in range(1000000)]"
   ]
  },
  {
   "cell_type": "code",
   "execution_count": null,
   "id": "db002a55",
   "metadata": {},
   "outputs": [],
   "source": [
    "b = (x for x in range(1000000))"
   ]
  },
  {
   "cell_type": "code",
   "execution_count": null,
   "id": "59e945a9",
   "metadata": {},
   "outputs": [],
   "source": [
    "len(b)"
   ]
  },
  {
   "cell_type": "code",
   "execution_count": null,
   "id": "da6bb333",
   "metadata": {},
   "outputs": [],
   "source": [
    "next(b)"
   ]
  },
  {
   "cell_type": "code",
   "execution_count": null,
   "id": "d6ff74fe",
   "metadata": {},
   "outputs": [],
   "source": [
    "from sys import getsizeof as _\n"
   ]
  },
  {
   "cell_type": "code",
   "execution_count": null,
   "id": "53f3f922",
   "metadata": {},
   "outputs": [],
   "source": [
    "_(a) / 1024 / 1024"
   ]
  },
  {
   "cell_type": "code",
   "execution_count": null,
   "id": "97e9a7dc",
   "metadata": {},
   "outputs": [],
   "source": [
    "_(b)"
   ]
  },
  {
   "cell_type": "code",
   "execution_count": null,
   "id": "f702223e",
   "metadata": {},
   "outputs": [],
   "source": [
    "for el in b: print(el)"
   ]
  },
  {
   "cell_type": "markdown",
   "id": "56fc301a",
   "metadata": {},
   "source": [
    "### zadanie: total_length\n",
    "\n",
    "a) napisz funkcję o nazwie `total_length` ktora przyjmie pewna liczbe obiektow - takich jak listy krotki i zwroci sume dlugosci obiektow\n",
    "\n",
    "    >>> total_length([4, 5], [6, 7])\n",
    "    4\n",
    "    \n",
    "    >>> total_length('hello', {'red': 50})\n",
    "    6"
   ]
  },
  {
   "cell_type": "code",
   "execution_count": null,
   "id": "c2f90dee",
   "metadata": {},
   "outputs": [],
   "source": [
    "def total_length(*iterables):\n",
    "    length = 0\n",
    "    for i in iterables:\n",
    "        length += len(i)\n",
    "    return length\n",
    "\n",
    "total_length('hello', {'red': 50}, bool)"
   ]
  },
  {
   "cell_type": "code",
   "execution_count": null,
   "id": "72b8fd39",
   "metadata": {},
   "outputs": [],
   "source": [
    "len(bool)"
   ]
  },
  {
   "cell_type": "markdown",
   "id": "b229c387",
   "metadata": {},
   "source": [
    "b) zmodyfikuj funkcje w ten sposob by dzialala takze dla tych iterables ktore nie maja len\n",
    "\n",
    "    >>> total_length([1, 2, 3, 4], (n**2 for n in range(4))\n",
    "    8"
   ]
  },
  {
   "cell_type": "code",
   "execution_count": null,
   "id": "fda79e68",
   "metadata": {},
   "outputs": [],
   "source": [
    "from typing import Sequence\n",
    "\n",
    "\n",
    "def total_length(*iterables: Sequence):\n",
    "    length = 0\n",
    "    for i in iterables:\n",
    "        try:\n",
    "            length += len(i)\n",
    "        except TypeError:\n",
    "#             for el in i:\n",
    "#                 length += 1\n",
    "            length += sum(1 for _ in i)\n",
    "    return length\n",
    "\n",
    "\n",
    "def total_length2(*iterables: Sequence):\n",
    "    length = 0\n",
    "    for i in iterables:\n",
    "        if hasattr(i, '__len__'):\n",
    "            length += len(i)\n",
    "        else:\n",
    "            length += sum(1 for _ in i)\n",
    "    return length\n",
    "\n",
    "\n",
    "total_length2([1, 2, 3, 4], (n**2 for n in range(4)))\n"
   ]
  },
  {
   "cell_type": "code",
   "execution_count": null,
   "id": "c81c2960",
   "metadata": {},
   "outputs": [],
   "source": [
    "%timeit -n1000 total_length([1, 2, 3, 4], (n**2 for n in range(4)))"
   ]
  },
  {
   "cell_type": "code",
   "execution_count": null,
   "id": "7e7d0cf3",
   "metadata": {},
   "outputs": [],
   "source": [
    "%timeit -n1000 total_length2([1, 2, 3, 4], (n**2 for n in range(4)))"
   ]
  },
  {
   "cell_type": "code",
   "execution_count": null,
   "id": "bf27b898",
   "metadata": {},
   "outputs": [],
   "source": [
    "for el in False:\n",
    "    print(el)"
   ]
  },
  {
   "cell_type": "code",
   "execution_count": null,
   "id": "63cddc1c",
   "metadata": {},
   "outputs": [],
   "source": [
    "def add(a: {'desc': 'argument a', 'type': int}, b: int) -> \"int\":\n",
    "    return a + b\n",
    "\n",
    "add.__annotations__"
   ]
  },
  {
   "cell_type": "markdown",
   "id": "c23267ad",
   "metadata": {},
   "source": [
    "### licznik w funkcji\n",
    "\n",
    "zdefiniuj funkcje ktora bedzie drukowala informacj o tym ile razy zostala wywolana\n",
    "\n",
    "    def f():\n",
    "        ...\n",
    "    >>> f()\n",
    "    f() has been executed 1 time(s)\n",
    "    >>> f()\n",
    "    f() has been executed 2 time(s)\n",
    "    >>> f()\n",
    "    f() has been executed 3 time(s)\n"
   ]
  },
  {
   "cell_type": "code",
   "execution_count": null,
   "id": "fd4687e4",
   "metadata": {},
   "outputs": [],
   "source": [
    "def f() -> 0:\n",
    "    f.__annotations__['return'] += 1\n",
    "    print(f\"f() has been executed {f.__annotations__['return']} time(s)\")\n",
    "\n",
    "f.__annotations__\n",
    "\n",
    "f()"
   ]
  },
  {
   "cell_type": "code",
   "execution_count": null,
   "id": "937ae399",
   "metadata": {},
   "outputs": [],
   "source": [
    "f()"
   ]
  },
  {
   "cell_type": "code",
   "execution_count": null,
   "id": "f40af222",
   "metadata": {},
   "outputs": [],
   "source": [
    "f.a = \"aaaa\"\n",
    "f.a"
   ]
  },
  {
   "cell_type": "code",
   "execution_count": null,
   "id": "1352af6e",
   "metadata": {},
   "outputs": [],
   "source": [
    "f()"
   ]
  },
  {
   "cell_type": "markdown",
   "id": "7f7e0a70",
   "metadata": {},
   "source": [
    "### splaszczenie listy\n",
    "\n",
    "napisz funkcje `flatten` ktora z zagniezdzonych list zrobi jedna plaska:\n",
    "\n",
    "    >>> flatten([1, 2, 3, [4, 5, [6]], 7]\n",
    "    [1, 2, 3, 4, 5, 6, 7]\n",
    "    \n",
    "    "
   ]
  },
  {
   "cell_type": "code",
   "execution_count": null,
   "id": "babc652a",
   "metadata": {},
   "outputs": [],
   "source": [
    "def flatten(nested: list) -> list:\n",
    "    result = []\n",
    "    for el in nested:\n",
    "        if isinstance(el, list):\n",
    "            for e in flatten(el):\n",
    "                result.append(e)\n",
    "        else:\n",
    "            result.append(el)\n",
    "    return result\n",
    "            \n",
    "flatten([1, 2, 3, [4, 5, [6]], 7])"
   ]
  },
  {
   "cell_type": "markdown",
   "id": "50e10bbe",
   "metadata": {},
   "source": [
    "### cut\n",
    "\n",
    "Napisz funkcje `cut` ktora przyjmie jako argument liste oraz dwie funkcje okreslajace kiedy zaczac i zakonczyc wybieranie\n",
    "\n",
    "np:\n",
    "\n",
    "    >>> cut([1, 2, 3, 4, 5, 6, 7, 8], start=lambda x: x > 3, stop=lambda x: x == 7)\n",
    "    [4, 5, 6, 7]\n",
    "\n",
    "    [1, 1, 1, 1, 3, 3, 3, 3, 2, 2, 2, 2, 3 ] start=lambda x: x % 2 == 0, stop=lambda x: x % 2 == 1\n",
    "    [2, 2, 2, 2, 3]\n",
    "    \n",
    "zadbaj o to, by wymusic uzycie nazw dla start i stop"
   ]
  },
  {
   "cell_type": "code",
   "execution_count": 3,
   "id": "e1964b95",
   "metadata": {},
   "outputs": [],
   "source": [
    "from typing import Callable\n",
    "\n",
    "\n",
    "def cut(data: list, *, start: Callable, stop: Callable):\n",
    "    result: list = [] \n",
    "    can_add: bool = False\n",
    "    \n",
    "    for el in data:\n",
    "        if not can_add and start(el): can_add = True\n",
    "        \n",
    "        if can_add:\n",
    "            result.append(el)\n",
    "            if stop(el): break\n",
    "    return result\n",
    "\n",
    "\n",
    "assert cut([1, 2, 3, 4, 5, 6, 7, 8], start=lambda x: x > 3, stop=lambda x: x == 7) == [4, 5, 6, 7]\n",
    "assert cut([1, 1, 1, 1, 3, 3, 3, 3, 2, 2, 2, 2, 3 ] , \n",
    "           start=lambda x: x % 2 == 0, stop=lambda x: x % 2 == 1) == [2, 2, 2, 2, 3]"
   ]
  },
  {
   "cell_type": "markdown",
   "id": "b2b805f6",
   "metadata": {},
   "source": [
    "### podstawy git"
   ]
  },
  {
   "cell_type": "code",
   "execution_count": null,
   "id": "c9d34fb7",
   "metadata": {},
   "outputs": [],
   "source": []
  }
 ],
 "metadata": {
  "kernelspec": {
   "display_name": "Python 3 (ipykernel)",
   "language": "python",
   "name": "python3"
  },
  "language_info": {
   "codemirror_mode": {
    "name": "ipython",
    "version": 3
   },
   "file_extension": ".py",
   "mimetype": "text/x-python",
   "name": "python",
   "nbconvert_exporter": "python",
   "pygments_lexer": "ipython3",
   "version": "3.10.4"
  }
 },
 "nbformat": 4,
 "nbformat_minor": 5
}
